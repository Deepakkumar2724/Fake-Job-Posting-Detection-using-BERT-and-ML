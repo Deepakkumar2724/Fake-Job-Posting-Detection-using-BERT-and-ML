{
  "cells": [
    {
      "cell_type": "code",
      "execution_count": null,
      "metadata": {
        "id": "p-bNGEHprAXU"
      },
      "outputs": [],
      "source": [
        "import pandas as pd\n",
        "import numpy as np\n",
        "import matplotlib.pyplot as plt\n",
        "import seaborn as sns\n",
        "import warnings\n",
        "warnings.filterwarnings('ignore')"
      ]
    },
    {
      "cell_type": "code",
      "execution_count": null,
      "metadata": {
        "colab": {
          "base_uri": "https://localhost:8080/"
        },
        "id": "UbLuna9qrfvf",
        "outputId": "4410561d-704a-4b15-9ffc-e4fdb4f95145"
      },
      "outputs": [
        {
          "output_type": "stream",
          "name": "stderr",
          "text": [
            "[nltk_data] Downloading package wordnet to /root/nltk_data...\n",
            "[nltk_data] Downloading package stopwords to /root/nltk_data...\n",
            "[nltk_data]   Unzipping corpora/stopwords.zip.\n"
          ]
        }
      ],
      "source": [
        "import nltk\n",
        "nltk.download('wordnet') # Download the 'wordnet' dataset\n",
        "nltk.download('stopwords') # Download the 'stopwords' dataset\n",
        "\n",
        "#Importing NLP plugins\n",
        "from nltk.corpus import stopwords\n",
        "stop_words = stopwords.words('english')\n",
        "from nltk.stem import WordNetLemmatizer\n",
        "import string\n",
        "\n",
        "from sklearn.feature_extraction.text import TfidfVectorizer"
      ]
    },
    {
      "cell_type": "code",
      "execution_count": null,
      "metadata": {
        "id": "SupBFr8ftVrY"
      },
      "outputs": [],
      "source": [
        "#Importing our Sklearn Plugins\n",
        "from sklearn.model_selection import train_test_split\n",
        "from sklearn.compose import ColumnTransformer\n",
        "from sklearn import preprocessing\n",
        "from sklearn.preprocessing import OneHotEncoder\n",
        "from sklearn.pipeline import make_pipeline\n",
        "from sklearn.pipeline import Pipeline\n",
        "from sklearn.model_selection import GridSearchCV\n",
        "\n",
        "#importing our models\n",
        "from sklearn.linear_model import LogisticRegression\n",
        "from sklearn.neighbors import KNeighborsClassifier\n",
        "from sklearn.ensemble import RandomForestClassifier\n",
        "from sklearn.neural_network import MLPClassifier\n",
        "\n",
        "#Model Evaluation\n",
        "from sklearn.metrics import accuracy_score\n",
        "from sklearn.metrics import confusion_matrix\n",
        "from sklearn.metrics import classification_report\n",
        "from sklearn.metrics import roc_auc_score"
      ]
    },
    {
      "cell_type": "code",
      "execution_count": null,
      "metadata": {
        "colab": {
          "base_uri": "https://localhost:8080/"
        },
        "id": "GwtOf_AftZWG",
        "outputId": "bc3f5564-fa54-4743-ee61-12d5d65ae1a2"
      },
      "outputs": [
        {
          "output_type": "execute_result",
          "data": {
            "text/plain": [
              "(17880, 18)"
            ]
          },
          "metadata": {},
          "execution_count": 4
        }
      ],
      "source": [
        "\n",
        "df= pd.read_csv(\"/content/DataSet2.csv\")\n",
        "df.shape"
      ]
    },
    {
      "cell_type": "code",
      "execution_count": null,
      "metadata": {
        "colab": {
          "base_uri": "https://localhost:8080/",
          "height": 538
        },
        "id": "4TsSbYnbu4OI",
        "outputId": "2304ef9d-47ab-4558-a6ab-7d4f911af194"
      },
      "outputs": [
        {
          "output_type": "execute_result",
          "data": {
            "text/plain": [
              "                                       title            location department  \\\n",
              "0                           Marketing Intern    US, NY, New York  Marketing   \n",
              "1  Customer Service - Cloud Video Production      NZ, , Auckland    Success   \n",
              "2    Commissioning Machinery Assistant (CMA)       US, IA, Wever        NaN   \n",
              "3          Account Executive - Washington DC  US, DC, Washington      Sales   \n",
              "4                        Bill Review Manager  US, FL, Fort Worth        NaN   \n",
              "\n",
              "  salary_range                                    company_profile  \\\n",
              "0          NaN  <h3>We're Food52, and we've created a groundbr...   \n",
              "1          NaN  <h3>90 Seconds, the worlds Cloud Video Product...   \n",
              "2          NaN  <h3></h3>\\r\\n<p>Valor Services provides Workfo...   \n",
              "3          NaN  <p>Our passion for improving quality of life t...   \n",
              "4          NaN  <p>SpotSource Solutions LLC is a Global Human ...   \n",
              "\n",
              "                                         description  \\\n",
              "0  <p>Food52, a fast-growing, James Beard Award-w...   \n",
              "1  <p>Organised - Focused - Vibrant - Awesome!<br...   \n",
              "2  <p>Our client, located in Houston, is actively...   \n",
              "3  <p><b>THE COMPANY: ESRI – Environmental System...   \n",
              "4  <p><b>JOB TITLE:</b> Itemization Review Manage...   \n",
              "\n",
              "                                        requirements  \\\n",
              "0  <ul>\\r\\n<li>Experience with content management...   \n",
              "1  <p><b>What we expect from you:</b></p>\\r\\n<p>Y...   \n",
              "2  <ul>\\r\\n<li>Implement pre-commissioning and co...   \n",
              "3  <ul>\\r\\n<li>\\r\\n<b>EDUCATION: </b>Bachelor’s o...   \n",
              "4  <p><b>QUALIFICATIONS:</b></p>\\r\\n<ul>\\r\\n<li>R...   \n",
              "\n",
              "                                            benefits telecommuting  \\\n",
              "0                                                NaN             f   \n",
              "1  <h3><b>What you will get from us</b></h3>\\r\\n<...             f   \n",
              "2                                                NaN             f   \n",
              "3  <p>Our culture is anything but corporate—we ha...             f   \n",
              "4                       <p>Full Benefits Offered</p>             f   \n",
              "\n",
              "  has_company_logo has_questions employment_type required_experience  \\\n",
              "0                t             f           Other          Internship   \n",
              "1                t             f       Full-time      Not Applicable   \n",
              "2                t             f             NaN                 NaN   \n",
              "3                t             f       Full-time    Mid-Senior level   \n",
              "4                t             t       Full-time    Mid-Senior level   \n",
              "\n",
              "  required_education                   industry              function  \\\n",
              "0                NaN                        NaN             Marketing   \n",
              "1                NaN  Marketing and Advertising      Customer Service   \n",
              "2                NaN                        NaN                   NaN   \n",
              "3  Bachelor's Degree          Computer Software                 Sales   \n",
              "4  Bachelor's Degree     Hospital & Health Care  Health Care Provider   \n",
              "\n",
              "  fraudulent in_balanced_dataset  \n",
              "0          f                   f  \n",
              "1          f                   f  \n",
              "2          f                   f  \n",
              "3          f                   f  \n",
              "4          f                   f  "
            ],
            "text/html": [
              "\n",
              "  <div id=\"df-14b396e8-e80b-4dc1-8e29-101672a3702b\" class=\"colab-df-container\">\n",
              "    <div>\n",
              "<style scoped>\n",
              "    .dataframe tbody tr th:only-of-type {\n",
              "        vertical-align: middle;\n",
              "    }\n",
              "\n",
              "    .dataframe tbody tr th {\n",
              "        vertical-align: top;\n",
              "    }\n",
              "\n",
              "    .dataframe thead th {\n",
              "        text-align: right;\n",
              "    }\n",
              "</style>\n",
              "<table border=\"1\" class=\"dataframe\">\n",
              "  <thead>\n",
              "    <tr style=\"text-align: right;\">\n",
              "      <th></th>\n",
              "      <th>title</th>\n",
              "      <th>location</th>\n",
              "      <th>department</th>\n",
              "      <th>salary_range</th>\n",
              "      <th>company_profile</th>\n",
              "      <th>description</th>\n",
              "      <th>requirements</th>\n",
              "      <th>benefits</th>\n",
              "      <th>telecommuting</th>\n",
              "      <th>has_company_logo</th>\n",
              "      <th>has_questions</th>\n",
              "      <th>employment_type</th>\n",
              "      <th>required_experience</th>\n",
              "      <th>required_education</th>\n",
              "      <th>industry</th>\n",
              "      <th>function</th>\n",
              "      <th>fraudulent</th>\n",
              "      <th>in_balanced_dataset</th>\n",
              "    </tr>\n",
              "  </thead>\n",
              "  <tbody>\n",
              "    <tr>\n",
              "      <th>0</th>\n",
              "      <td>Marketing Intern</td>\n",
              "      <td>US, NY, New York</td>\n",
              "      <td>Marketing</td>\n",
              "      <td>NaN</td>\n",
              "      <td>&lt;h3&gt;We're Food52, and we've created a groundbr...</td>\n",
              "      <td>&lt;p&gt;Food52, a fast-growing, James Beard Award-w...</td>\n",
              "      <td>&lt;ul&gt;\\r\\n&lt;li&gt;Experience with content management...</td>\n",
              "      <td>NaN</td>\n",
              "      <td>f</td>\n",
              "      <td>t</td>\n",
              "      <td>f</td>\n",
              "      <td>Other</td>\n",
              "      <td>Internship</td>\n",
              "      <td>NaN</td>\n",
              "      <td>NaN</td>\n",
              "      <td>Marketing</td>\n",
              "      <td>f</td>\n",
              "      <td>f</td>\n",
              "    </tr>\n",
              "    <tr>\n",
              "      <th>1</th>\n",
              "      <td>Customer Service - Cloud Video Production</td>\n",
              "      <td>NZ, , Auckland</td>\n",
              "      <td>Success</td>\n",
              "      <td>NaN</td>\n",
              "      <td>&lt;h3&gt;90 Seconds, the worlds Cloud Video Product...</td>\n",
              "      <td>&lt;p&gt;Organised - Focused - Vibrant - Awesome!&lt;br...</td>\n",
              "      <td>&lt;p&gt;&lt;b&gt;What we expect from you:&lt;/b&gt;&lt;/p&gt;\\r\\n&lt;p&gt;Y...</td>\n",
              "      <td>&lt;h3&gt;&lt;b&gt;What you will get from us&lt;/b&gt;&lt;/h3&gt;\\r\\n&lt;...</td>\n",
              "      <td>f</td>\n",
              "      <td>t</td>\n",
              "      <td>f</td>\n",
              "      <td>Full-time</td>\n",
              "      <td>Not Applicable</td>\n",
              "      <td>NaN</td>\n",
              "      <td>Marketing and Advertising</td>\n",
              "      <td>Customer Service</td>\n",
              "      <td>f</td>\n",
              "      <td>f</td>\n",
              "    </tr>\n",
              "    <tr>\n",
              "      <th>2</th>\n",
              "      <td>Commissioning Machinery Assistant (CMA)</td>\n",
              "      <td>US, IA, Wever</td>\n",
              "      <td>NaN</td>\n",
              "      <td>NaN</td>\n",
              "      <td>&lt;h3&gt;&lt;/h3&gt;\\r\\n&lt;p&gt;Valor Services provides Workfo...</td>\n",
              "      <td>&lt;p&gt;Our client, located in Houston, is actively...</td>\n",
              "      <td>&lt;ul&gt;\\r\\n&lt;li&gt;Implement pre-commissioning and co...</td>\n",
              "      <td>NaN</td>\n",
              "      <td>f</td>\n",
              "      <td>t</td>\n",
              "      <td>f</td>\n",
              "      <td>NaN</td>\n",
              "      <td>NaN</td>\n",
              "      <td>NaN</td>\n",
              "      <td>NaN</td>\n",
              "      <td>NaN</td>\n",
              "      <td>f</td>\n",
              "      <td>f</td>\n",
              "    </tr>\n",
              "    <tr>\n",
              "      <th>3</th>\n",
              "      <td>Account Executive - Washington DC</td>\n",
              "      <td>US, DC, Washington</td>\n",
              "      <td>Sales</td>\n",
              "      <td>NaN</td>\n",
              "      <td>&lt;p&gt;Our passion for improving quality of life t...</td>\n",
              "      <td>&lt;p&gt;&lt;b&gt;THE COMPANY: ESRI – Environmental System...</td>\n",
              "      <td>&lt;ul&gt;\\r\\n&lt;li&gt;\\r\\n&lt;b&gt;EDUCATION: &lt;/b&gt;Bachelor’s o...</td>\n",
              "      <td>&lt;p&gt;Our culture is anything but corporate—we ha...</td>\n",
              "      <td>f</td>\n",
              "      <td>t</td>\n",
              "      <td>f</td>\n",
              "      <td>Full-time</td>\n",
              "      <td>Mid-Senior level</td>\n",
              "      <td>Bachelor's Degree</td>\n",
              "      <td>Computer Software</td>\n",
              "      <td>Sales</td>\n",
              "      <td>f</td>\n",
              "      <td>f</td>\n",
              "    </tr>\n",
              "    <tr>\n",
              "      <th>4</th>\n",
              "      <td>Bill Review Manager</td>\n",
              "      <td>US, FL, Fort Worth</td>\n",
              "      <td>NaN</td>\n",
              "      <td>NaN</td>\n",
              "      <td>&lt;p&gt;SpotSource Solutions LLC is a Global Human ...</td>\n",
              "      <td>&lt;p&gt;&lt;b&gt;JOB TITLE:&lt;/b&gt; Itemization Review Manage...</td>\n",
              "      <td>&lt;p&gt;&lt;b&gt;QUALIFICATIONS:&lt;/b&gt;&lt;/p&gt;\\r\\n&lt;ul&gt;\\r\\n&lt;li&gt;R...</td>\n",
              "      <td>&lt;p&gt;Full Benefits Offered&lt;/p&gt;</td>\n",
              "      <td>f</td>\n",
              "      <td>t</td>\n",
              "      <td>t</td>\n",
              "      <td>Full-time</td>\n",
              "      <td>Mid-Senior level</td>\n",
              "      <td>Bachelor's Degree</td>\n",
              "      <td>Hospital &amp; Health Care</td>\n",
              "      <td>Health Care Provider</td>\n",
              "      <td>f</td>\n",
              "      <td>f</td>\n",
              "    </tr>\n",
              "  </tbody>\n",
              "</table>\n",
              "</div>\n",
              "    <div class=\"colab-df-buttons\">\n",
              "\n",
              "  <div class=\"colab-df-container\">\n",
              "    <button class=\"colab-df-convert\" onclick=\"convertToInteractive('df-14b396e8-e80b-4dc1-8e29-101672a3702b')\"\n",
              "            title=\"Convert this dataframe to an interactive table.\"\n",
              "            style=\"display:none;\">\n",
              "\n",
              "  <svg xmlns=\"http://www.w3.org/2000/svg\" height=\"24px\" viewBox=\"0 -960 960 960\">\n",
              "    <path d=\"M120-120v-720h720v720H120Zm60-500h600v-160H180v160Zm220 220h160v-160H400v160Zm0 220h160v-160H400v160ZM180-400h160v-160H180v160Zm440 0h160v-160H620v160ZM180-180h160v-160H180v160Zm440 0h160v-160H620v160Z\"/>\n",
              "  </svg>\n",
              "    </button>\n",
              "\n",
              "  <style>\n",
              "    .colab-df-container {\n",
              "      display:flex;\n",
              "      gap: 12px;\n",
              "    }\n",
              "\n",
              "    .colab-df-convert {\n",
              "      background-color: #E8F0FE;\n",
              "      border: none;\n",
              "      border-radius: 50%;\n",
              "      cursor: pointer;\n",
              "      display: none;\n",
              "      fill: #1967D2;\n",
              "      height: 32px;\n",
              "      padding: 0 0 0 0;\n",
              "      width: 32px;\n",
              "    }\n",
              "\n",
              "    .colab-df-convert:hover {\n",
              "      background-color: #E2EBFA;\n",
              "      box-shadow: 0px 1px 2px rgba(60, 64, 67, 0.3), 0px 1px 3px 1px rgba(60, 64, 67, 0.15);\n",
              "      fill: #174EA6;\n",
              "    }\n",
              "\n",
              "    .colab-df-buttons div {\n",
              "      margin-bottom: 4px;\n",
              "    }\n",
              "\n",
              "    [theme=dark] .colab-df-convert {\n",
              "      background-color: #3B4455;\n",
              "      fill: #D2E3FC;\n",
              "    }\n",
              "\n",
              "    [theme=dark] .colab-df-convert:hover {\n",
              "      background-color: #434B5C;\n",
              "      box-shadow: 0px 1px 3px 1px rgba(0, 0, 0, 0.15);\n",
              "      filter: drop-shadow(0px 1px 2px rgba(0, 0, 0, 0.3));\n",
              "      fill: #FFFFFF;\n",
              "    }\n",
              "  </style>\n",
              "\n",
              "    <script>\n",
              "      const buttonEl =\n",
              "        document.querySelector('#df-14b396e8-e80b-4dc1-8e29-101672a3702b button.colab-df-convert');\n",
              "      buttonEl.style.display =\n",
              "        google.colab.kernel.accessAllowed ? 'block' : 'none';\n",
              "\n",
              "      async function convertToInteractive(key) {\n",
              "        const element = document.querySelector('#df-14b396e8-e80b-4dc1-8e29-101672a3702b');\n",
              "        const dataTable =\n",
              "          await google.colab.kernel.invokeFunction('convertToInteractive',\n",
              "                                                    [key], {});\n",
              "        if (!dataTable) return;\n",
              "\n",
              "        const docLinkHtml = 'Like what you see? Visit the ' +\n",
              "          '<a target=\"_blank\" href=https://colab.research.google.com/notebooks/data_table.ipynb>data table notebook</a>'\n",
              "          + ' to learn more about interactive tables.';\n",
              "        element.innerHTML = '';\n",
              "        dataTable['output_type'] = 'display_data';\n",
              "        await google.colab.output.renderOutput(dataTable, element);\n",
              "        const docLink = document.createElement('div');\n",
              "        docLink.innerHTML = docLinkHtml;\n",
              "        element.appendChild(docLink);\n",
              "      }\n",
              "    </script>\n",
              "  </div>\n",
              "\n",
              "\n",
              "    <div id=\"df-4e860903-93d7-476d-813a-83ec32b0632d\">\n",
              "      <button class=\"colab-df-quickchart\" onclick=\"quickchart('df-4e860903-93d7-476d-813a-83ec32b0632d')\"\n",
              "                title=\"Suggest charts\"\n",
              "                style=\"display:none;\">\n",
              "\n",
              "<svg xmlns=\"http://www.w3.org/2000/svg\" height=\"24px\"viewBox=\"0 0 24 24\"\n",
              "     width=\"24px\">\n",
              "    <g>\n",
              "        <path d=\"M19 3H5c-1.1 0-2 .9-2 2v14c0 1.1.9 2 2 2h14c1.1 0 2-.9 2-2V5c0-1.1-.9-2-2-2zM9 17H7v-7h2v7zm4 0h-2V7h2v10zm4 0h-2v-4h2v4z\"/>\n",
              "    </g>\n",
              "</svg>\n",
              "      </button>\n",
              "\n",
              "<style>\n",
              "  .colab-df-quickchart {\n",
              "      --bg-color: #E8F0FE;\n",
              "      --fill-color: #1967D2;\n",
              "      --hover-bg-color: #E2EBFA;\n",
              "      --hover-fill-color: #174EA6;\n",
              "      --disabled-fill-color: #AAA;\n",
              "      --disabled-bg-color: #DDD;\n",
              "  }\n",
              "\n",
              "  [theme=dark] .colab-df-quickchart {\n",
              "      --bg-color: #3B4455;\n",
              "      --fill-color: #D2E3FC;\n",
              "      --hover-bg-color: #434B5C;\n",
              "      --hover-fill-color: #FFFFFF;\n",
              "      --disabled-bg-color: #3B4455;\n",
              "      --disabled-fill-color: #666;\n",
              "  }\n",
              "\n",
              "  .colab-df-quickchart {\n",
              "    background-color: var(--bg-color);\n",
              "    border: none;\n",
              "    border-radius: 50%;\n",
              "    cursor: pointer;\n",
              "    display: none;\n",
              "    fill: var(--fill-color);\n",
              "    height: 32px;\n",
              "    padding: 0;\n",
              "    width: 32px;\n",
              "  }\n",
              "\n",
              "  .colab-df-quickchart:hover {\n",
              "    background-color: var(--hover-bg-color);\n",
              "    box-shadow: 0 1px 2px rgba(60, 64, 67, 0.3), 0 1px 3px 1px rgba(60, 64, 67, 0.15);\n",
              "    fill: var(--button-hover-fill-color);\n",
              "  }\n",
              "\n",
              "  .colab-df-quickchart-complete:disabled,\n",
              "  .colab-df-quickchart-complete:disabled:hover {\n",
              "    background-color: var(--disabled-bg-color);\n",
              "    fill: var(--disabled-fill-color);\n",
              "    box-shadow: none;\n",
              "  }\n",
              "\n",
              "  .colab-df-spinner {\n",
              "    border: 2px solid var(--fill-color);\n",
              "    border-color: transparent;\n",
              "    border-bottom-color: var(--fill-color);\n",
              "    animation:\n",
              "      spin 1s steps(1) infinite;\n",
              "  }\n",
              "\n",
              "  @keyframes spin {\n",
              "    0% {\n",
              "      border-color: transparent;\n",
              "      border-bottom-color: var(--fill-color);\n",
              "      border-left-color: var(--fill-color);\n",
              "    }\n",
              "    20% {\n",
              "      border-color: transparent;\n",
              "      border-left-color: var(--fill-color);\n",
              "      border-top-color: var(--fill-color);\n",
              "    }\n",
              "    30% {\n",
              "      border-color: transparent;\n",
              "      border-left-color: var(--fill-color);\n",
              "      border-top-color: var(--fill-color);\n",
              "      border-right-color: var(--fill-color);\n",
              "    }\n",
              "    40% {\n",
              "      border-color: transparent;\n",
              "      border-right-color: var(--fill-color);\n",
              "      border-top-color: var(--fill-color);\n",
              "    }\n",
              "    60% {\n",
              "      border-color: transparent;\n",
              "      border-right-color: var(--fill-color);\n",
              "    }\n",
              "    80% {\n",
              "      border-color: transparent;\n",
              "      border-right-color: var(--fill-color);\n",
              "      border-bottom-color: var(--fill-color);\n",
              "    }\n",
              "    90% {\n",
              "      border-color: transparent;\n",
              "      border-bottom-color: var(--fill-color);\n",
              "    }\n",
              "  }\n",
              "</style>\n",
              "\n",
              "      <script>\n",
              "        async function quickchart(key) {\n",
              "          const quickchartButtonEl =\n",
              "            document.querySelector('#' + key + ' button');\n",
              "          quickchartButtonEl.disabled = true;  // To prevent multiple clicks.\n",
              "          quickchartButtonEl.classList.add('colab-df-spinner');\n",
              "          try {\n",
              "            const charts = await google.colab.kernel.invokeFunction(\n",
              "                'suggestCharts', [key], {});\n",
              "          } catch (error) {\n",
              "            console.error('Error during call to suggestCharts:', error);\n",
              "          }\n",
              "          quickchartButtonEl.classList.remove('colab-df-spinner');\n",
              "          quickchartButtonEl.classList.add('colab-df-quickchart-complete');\n",
              "        }\n",
              "        (() => {\n",
              "          let quickchartButtonEl =\n",
              "            document.querySelector('#df-4e860903-93d7-476d-813a-83ec32b0632d button');\n",
              "          quickchartButtonEl.style.display =\n",
              "            google.colab.kernel.accessAllowed ? 'block' : 'none';\n",
              "        })();\n",
              "      </script>\n",
              "    </div>\n",
              "\n",
              "    </div>\n",
              "  </div>\n"
            ],
            "application/vnd.google.colaboratory.intrinsic+json": {
              "type": "dataframe",
              "variable_name": "df",
              "summary": "{\n  \"name\": \"df\",\n  \"rows\": 17880,\n  \"fields\": [\n    {\n      \"column\": \"title\",\n      \"properties\": {\n        \"dtype\": \"string\",\n        \"num_unique_values\": 11231,\n        \"samples\": [\n          \"Environmental Lab Technician\",\n          \"Junior Designer\",\n          \"Case Handler\"\n        ],\n        \"semantic_type\": \"\",\n        \"description\": \"\"\n      }\n    },\n    {\n      \"column\": \"location\",\n      \"properties\": {\n        \"dtype\": \"category\",\n        \"num_unique_values\": 3105,\n        \"samples\": [\n          \"US, VA, Arlington\",\n          \"US, AL, Dothan\",\n          \"US, CA, Long Beach\"\n        ],\n        \"semantic_type\": \"\",\n        \"description\": \"\"\n      }\n    },\n    {\n      \"column\": \"department\",\n      \"properties\": {\n        \"dtype\": \"category\",\n        \"num_unique_values\": 1337,\n        \"samples\": [\n          \"Finance team\",\n          \"Product Ops\",\n          \"Engineering - Hardware\"\n        ],\n        \"semantic_type\": \"\",\n        \"description\": \"\"\n      }\n    },\n    {\n      \"column\": \"salary_range\",\n      \"properties\": {\n        \"dtype\": \"category\",\n        \"num_unique_values\": 874,\n        \"samples\": [\n          \"60000-130000\",\n          \"30000-450000\",\n          \"120000-130000\"\n        ],\n        \"semantic_type\": \"\",\n        \"description\": \"\"\n      }\n    },\n    {\n      \"column\": \"company_profile\",\n      \"properties\": {\n        \"dtype\": \"category\",\n        \"num_unique_values\": 1710,\n        \"samples\": [\n          \"<p>We make tools for startups. Currently building <a rel=\\\"nofollow\\\" class=\\\"external\\\">Hire my Friend</a>, <a rel=\\\"nofollow\\\" class=\\\"external\\\">Wrangler</a>, <a rel=\\\"nofollow\\\" class=\\\"external\\\">Attending</a>, <a rel=\\\"nofollow\\\" class=\\\"external\\\">Linkydink</a>. Based in London and proud of it!</p>\",\n          \"<p>AbZorba is a world leading mobile casino games studio based in Athens that recently smashed through 2 million gamer installs, reached #1 US iOS Casino Games and has #1 Blackjack Android worldwide.</p>\",\n          \"<p>Internet Engine is a dynamic and diverse Internet marketing company specializing in Search Engine Optimization (SEO), Search Engine Marketing (SEM), rapid website deployment and lead generation for Real Estate professionals. We have developed a successful unified marketing strategy that generates targeted traffic to websites which provides hundreds of leads each week in several lucrative Real Estate markets.</p>\"\n        ],\n        \"semantic_type\": \"\",\n        \"description\": \"\"\n      }\n    },\n    {\n      \"column\": \"description\",\n      \"properties\": {\n        \"dtype\": \"string\",\n        \"num_unique_values\": 15095,\n        \"samples\": [\n          \"<p>Luxury beauty &amp; fragrance consultants needed!</p>\\r\\n<p>Pure Placements\\u00a0are a specialist luxury retail recruitment agency, specialising is temporary &amp; permanent beauty, fragrance, fashion &amp; retail staff.\\u00a0We are recruiting now for beauty &amp; fragrance consultants to work within department stores across the country promoting luxury products such as make up, skin care &amp; perfume, must come from a beauty/retail background,\\u00a0exceptional customer service skills are a must!\\u00a0If you feel you have relevant experience and want to join our fantastic team\\u00a0please email a copy of\\u00a0your CV with a recent full length or head shot\\u00a0photo to marie<a href=\\\"mailto:#EMAIL_6028ae5388335a3013c32058435e158c80f0014f2796bd512ba7ab0c6b01cd26#\\\" rel=\\\"nofollow\\\" class=\\\"external\\\">@#URL_2cf2adf737014de8b49f0776d9c8caa1a359f0bf42fa9910bb760d5475a2f1b9#</a></p>\",\n          \"<p>Temporary Service Desk Analysts \\u00a0will perform various activities related to managing general Desktop and Server information technology. This includes, but is not limited to: Email (Exchange, others), Directory Services (AD), Windows, Linux, Citrix, Vmware, mobile devices, e-mail (Exchange/Office 365), and Windows Server applications.</p>\\r\\n<p>This position is a direct hire by Virteva; no staffing agency is involved.\\u00a0</p>\\r\\n<p><b>ESSENTIAL DUTIES AND RESPONSIBILITIES:</b></p>\\r\\n<ul>\\r\\n<li>Taking initial telephone inquiries and troubleshooting relatively simple hardware, software, or network problems.</li>\\r\\n<li>Monitor incoming tickets and alerts in the ServiceNow system and respond accordingly.</li>\\r\\n<li>Update all tickets according to Service Level Agreements (SLA).</li>\\r\\n<li>Working as an effective team member with the Virteva team, partners and internal staff.</li>\\r\\n<li>Maintaining professional, quality interactions with customers at all times.</li>\\r\\n<li>Recognizing and escalating more difficult problems</li>\\r\\n<li>Documenting customer impact, resolution steps, and appropriate priority in accordance with policy and customer requirements.</li>\\r\\n<li>Other duties as assigned.\\u00a0</li>\\r\\n</ul><p><b>REQUIREMENTS:</b></p>\\r\\n<ul>\\r\\n<li>We require a commitment until the project is complete, on a contract basis, 2-4 months, 40 hours a week, standard business hours.</li>\\r\\n<li>Background check will be required.</li>\\r\\n</ul>\",\n          \"<p>Our mission at MarketInvoice is to modernise the way by which businesses finance their working capital and fund their growth. We are seeking to bring much-needed innovation to the banking industry in much the same way that online retailers disrupted the high street.</p>\\r\\n<p>We offer a new kind of working capital finance, built for savvy growing businesses. Our online platform gives clients access to funds in outstanding individual invoices, otherwise tied up for between 30 to 120 days. MarketInvoice is entirely different to traditional factoring. Businesses can sign up online, sell an invoice and draw down funds on the same day. There are no contracts, hidden fees or personal guarantees.</p>\\r\\n<p>We launched in 2011 and already we\\u2019ve helped hundreds of growing companies overcome their fluctuating cash-flow. Over \\u00a3200m has been funded since we started. Our clients typically use the finance we help them to raise to launch new products, hire more staff or expand internationally.</p>\\r\\n<p>A global pool of sophisticated investors fund the invoices on the platform, and as of August 2013 the UK government began buying invoices as part of the British Business Bank initiative. We\\u2019ve had lots of praise in the press, both in the UK and internationally, and we\\u2019re winning some big awards, including a 2014 Santander \\u2018Breakthrough 50\\u2019 award.</p>\\r\\n<p>Based in central London, you will be joining a young, multi-talented fast-growing team passionate about using technology to help businesses access funding, and changing the world of bank finance.</p>\\r\\n<p><b>The Role</b></p>\\r\\n<p>As Director of Operations you will be responsible for the daily operations of MarketInvoice. You will ensure that our systems can securely and efficiently settle thousands of invoice funding transactions flowing through our platform. You will be part of product planning and management and will inform product decisions based on your knowledge of our current and future operational capabilities. You will report to the CEO and be the point person for implementation of our strategy and for design and management of supply chains within our business.</p>\"\n        ],\n        \"semantic_type\": \"\",\n        \"description\": \"\"\n      }\n    },\n    {\n      \"column\": \"requirements\",\n      \"properties\": {\n        \"dtype\": \"string\",\n        \"num_unique_values\": 12119,\n        \"samples\": [\n          \"<ul>\\r\\n<li>Seasoned iOS engineer: armed with strong Objective-C coding skills, you have solid hands-on experience with the iOS core framework and libraries.</li>\\r\\n<li>Good understanding of JavaScript, HTML(5) and browser technologies.</li>\\r\\n<li>Solid design and prototyping skills.</li>\\r\\n<li>Strong CS fundamentals - algorithms, data structures, operating systems, networking.</li>\\r\\n<li>Impeccable software development skills with a solid understanding of design patterns and OO/functional programming paradigms.</li>\\r\\n<li>Proven debugging and troubleshooting skills. You know how to use\\u00a0debugging/profiling tools in Xcode or on the command line if needed.</li>\\r\\n<li>Comfortable working in a test-driven development environment.</li>\\r\\n<li>Experience working in a continuous integration development cycle.</li>\\r\\n<li>Excellent written and verbal communications skills at the business and technical level.</li>\\r\\n<li>Strong work ethic, commitment and team work.</li>\\r\\n<li>Fluent in writing well-documented code, explaining methods in good English.</li>\\r\\n<li>A degree in computer science or similar is a plus.</li>\\r\\n<li>Android/Java development experience is a plus.</li>\\r\\n<li>We greatly value participation in Linux / Open Source projects. We live and breathe Open Source.</li>\\r\\n<li>Self-motivated, but can excel in a team-based environment. Strong initiative and enthusiasm.</li>\\r\\n<li>You have to be eligible to work in the US.</li>\\r\\n</ul>\",\n          \"<p><b>Position Qualifications</b>:</p>\\r\\n<ul>\\r\\n<li>Ergonomic certified or willing to take the on line certification class within the first 90 days of employment</li>\\r\\n<li>Proven supervisory/leadership experience; Minimum of\\u00a03 years management experience in logistics, facilities or shipping/receiving required</li>\\r\\n<li>Management experience in multi-service environment; minimum 3 years</li>\\r\\n<li>Effective customer relationship building skills</li>\\r\\n<li>Effective written and verbal communication skills; proven analytical skills</li>\\r\\n<li>Excellent planning, prioritization and organizational skills</li>\\r\\n<li>Ability to resolve issues without management supervision required</li>\\r\\n<li>Proven experience in achieving financial goals related to revenue and profitability</li>\\r\\n<li>Proficiency in email environments, MS Office Suite (Word, Excel required, PowerPoint preferred)</li>\\r\\n<li>Minimum of a HS diploma or equivalent required, undergraduate degree preferred</li>\\r\\n<li>Ability to administer company policies and procedures</li>\\r\\n<li>Willingness to submit to a pre-employment drug screening and criminal background check</li>\\r\\n<li>Valid driver's license and clean driving record (less than 3 violations the past 3 years)</li>\\r\\n</ul>\",\n          \"<p><b>Knowledge, Skills and Experience</b></p>\\r\\n<ul>\\r\\n<li>\\u00a06 years of experience in product management preferably in the telecommunications services sector.</li>\\r\\n<li>\\u00a0Telecommunications domain knowledge \\u2013 must understand the mobile operator business and challenges</li>\\r\\n<li>B. Science in Technology or Business. MBA a plus.</li>\\r\\n<li>Hands on experience in managing the development of an idea, creating the specifications, managing the internal reviews and market research.</li>\\r\\n<li>\\u00a0Ability to formulate requirements and experience working with research and development</li>\\r\\n<li>\\u00a0Experience with collaboration with a multi geography and multi-functional virtual team</li>\\r\\n<li>Previous P&amp;L responsibility\\u00a0</li>\\r\\n<li>Possess working knowledge of technologies applied to product implementation.</li>\\r\\n<li>Increase account penetration and pipeline diversity with new solution development</li>\\r\\n<li>Strong understanding of competitors and ability to explain competitive differentiators</li>\\r\\n<li>Demonstrated ability and experience developing a product through its life cycle</li>\\r\\n<li>Ability to identify key differentiators, features and benefits, and be able to credibly articulate these to internal stakeholders, customers/prospects, analysts/media, etc</li>\\r\\n<li>Proven leadership credentials with an emphasis on positive team spirit and building virtual teams</li>\\r\\n<li>\\u00a0Experience working with sales to help define/refine sales messages and ensure sales packages are developed and messages communicated to sales team</li>\\r\\n</ul><p></p>\\r\\n<p><b>Personal Characteristics</b></p>\\r\\n<ul>\\r\\n<li>Able to perform under pressure and deliver results in a demanding and fast-paced environment that requires fresh thinking and innovation</li>\\r\\n<li>\\u00a0Strategic thinking and solution oriented approach</li>\\r\\n<li>\\u00a0Excellent communication skills, both written and oral, ability to communicate with CX levels and team work skills</li>\\r\\n<li>\\u00a0 Must possess an entrepreneurial mind set and spirit</li>\\r\\n<li>\\u00a0Need to be a focused, proactive self-starter who can operate in a constantly evolving team environment and have the ability to work effectively with cross-functional and remote teams.</li>\\r\\n</ul>\"\n        ],\n        \"semantic_type\": \"\",\n        \"description\": \"\"\n      }\n    },\n    {\n      \"column\": \"benefits\",\n      \"properties\": {\n        \"dtype\": \"category\",\n        \"num_unique_values\": 6510,\n        \"samples\": [\n          \"<p>Level 2 qualification after one year and a permanent role thereafter.</p>\\r\\n<p>Great job satisfaction</p>\\r\\n<p></p>\",\n          \"<p><b>What we offer:</b></p>\\r\\n<ul>\\r\\n<li>Great team work environment</li>\\r\\n<li>Competitive salary</li>\\r\\n<li>Paid holidays, vacation and personal time off</li>\\r\\n<li>Opportunities for professional development and advancement</li>\\r\\n</ul>\",\n          \"<ul>\\r\\n<li>Competitive compensation with uncapped commissions</li>\\r\\n<li>Collaborative, open culture that encourages coaching and development</li>\\r\\n<li>Full benefits including access to Weston Fitness (located in our building)</li>\\r\\n<li>Friday lunches and company outings</li>\\r\\n<li>Fully stocked kitchen and pantry</li>\\r\\n<li>Opportunity to quickly grow into new and exciting roles in fast growing technology company</li>\\r\\n</ul><p>\\u00a0</p>\"\n        ],\n        \"semantic_type\": \"\",\n        \"description\": \"\"\n      }\n    },\n    {\n      \"column\": \"telecommuting\",\n      \"properties\": {\n        \"dtype\": \"category\",\n        \"num_unique_values\": 2,\n        \"samples\": [\n          \"t\",\n          \"f\"\n        ],\n        \"semantic_type\": \"\",\n        \"description\": \"\"\n      }\n    },\n    {\n      \"column\": \"has_company_logo\",\n      \"properties\": {\n        \"dtype\": \"category\",\n        \"num_unique_values\": 2,\n        \"samples\": [\n          \"f\",\n          \"t\"\n        ],\n        \"semantic_type\": \"\",\n        \"description\": \"\"\n      }\n    },\n    {\n      \"column\": \"has_questions\",\n      \"properties\": {\n        \"dtype\": \"category\",\n        \"num_unique_values\": 2,\n        \"samples\": [\n          \"t\",\n          \"f\"\n        ],\n        \"semantic_type\": \"\",\n        \"description\": \"\"\n      }\n    },\n    {\n      \"column\": \"employment_type\",\n      \"properties\": {\n        \"dtype\": \"category\",\n        \"num_unique_values\": 5,\n        \"samples\": [\n          \"Full-time\",\n          \"Temporary\"\n        ],\n        \"semantic_type\": \"\",\n        \"description\": \"\"\n      }\n    },\n    {\n      \"column\": \"required_experience\",\n      \"properties\": {\n        \"dtype\": \"category\",\n        \"num_unique_values\": 7,\n        \"samples\": [\n          \"Internship\",\n          \"Not Applicable\"\n        ],\n        \"semantic_type\": \"\",\n        \"description\": \"\"\n      }\n    },\n    {\n      \"column\": \"required_education\",\n      \"properties\": {\n        \"dtype\": \"category\",\n        \"num_unique_values\": 13,\n        \"samples\": [\n          \"Vocational - Degree\",\n          \"Doctorate\"\n        ],\n        \"semantic_type\": \"\",\n        \"description\": \"\"\n      }\n    },\n    {\n      \"column\": \"industry\",\n      \"properties\": {\n        \"dtype\": \"category\",\n        \"num_unique_values\": 131,\n        \"samples\": [\n          \"Publishing\",\n          \"Music\"\n        ],\n        \"semantic_type\": \"\",\n        \"description\": \"\"\n      }\n    },\n    {\n      \"column\": \"function\",\n      \"properties\": {\n        \"dtype\": \"category\",\n        \"num_unique_values\": 37,\n        \"samples\": [\n          \"Human Resources\",\n          \"Business Development\"\n        ],\n        \"semantic_type\": \"\",\n        \"description\": \"\"\n      }\n    },\n    {\n      \"column\": \"fraudulent\",\n      \"properties\": {\n        \"dtype\": \"category\",\n        \"num_unique_values\": 2,\n        \"samples\": [\n          \"t\",\n          \"f\"\n        ],\n        \"semantic_type\": \"\",\n        \"description\": \"\"\n      }\n    },\n    {\n      \"column\": \"in_balanced_dataset\",\n      \"properties\": {\n        \"dtype\": \"category\",\n        \"num_unique_values\": 2,\n        \"samples\": [\n          \"t\",\n          \"f\"\n        ],\n        \"semantic_type\": \"\",\n        \"description\": \"\"\n      }\n    }\n  ]\n}"
            }
          },
          "metadata": {},
          "execution_count": 5
        }
      ],
      "source": [
        "df.head()"
      ]
    },
    {
      "cell_type": "code",
      "execution_count": null,
      "metadata": {
        "colab": {
          "base_uri": "https://localhost:8080/"
        },
        "id": "LLr8q7cetsQl",
        "outputId": "ce649864-5fdd-48b2-faf1-99d9f95aeee4"
      },
      "outputs": [
        {
          "output_type": "stream",
          "name": "stdout",
          "text": [
            "<class 'pandas.core.frame.DataFrame'>\n",
            "RangeIndex: 17880 entries, 0 to 17879\n",
            "Data columns (total 18 columns):\n",
            " #   Column               Non-Null Count  Dtype \n",
            "---  ------               --------------  ----- \n",
            " 0   title                17880 non-null  object\n",
            " 1   location             17534 non-null  object\n",
            " 2   department           6333 non-null   object\n",
            " 3   salary_range         2868 non-null   object\n",
            " 4   company_profile      14572 non-null  object\n",
            " 5   description          17880 non-null  object\n",
            " 6   requirements         15191 non-null  object\n",
            " 7   benefits             10684 non-null  object\n",
            " 8   telecommuting        17880 non-null  object\n",
            " 9   has_company_logo     17880 non-null  object\n",
            " 10  has_questions        17880 non-null  object\n",
            " 11  employment_type      14409 non-null  object\n",
            " 12  required_experience  10830 non-null  object\n",
            " 13  required_education   9775 non-null   object\n",
            " 14  industry             12977 non-null  object\n",
            " 15  function             11425 non-null  object\n",
            " 16  fraudulent           17880 non-null  object\n",
            " 17  in_balanced_dataset  17880 non-null  object\n",
            "dtypes: object(18)\n",
            "memory usage: 2.5+ MB\n"
          ]
        }
      ],
      "source": [
        "df.info()"
      ]
    },
    {
      "cell_type": "code",
      "execution_count": null,
      "metadata": {
        "colab": {
          "base_uri": "https://localhost:8080/",
          "height": 648
        },
        "id": "2K_j8GLdvTT3",
        "outputId": "661c0530-5c23-4eee-9bde-b88fdd727f09"
      },
      "outputs": [
        {
          "output_type": "execute_result",
          "data": {
            "text/plain": [
              "title                  0.000000\n",
              "location               0.019351\n",
              "department             0.645805\n",
              "salary_range           0.839597\n",
              "company_profile        0.185011\n",
              "description            0.000000\n",
              "requirements           0.150391\n",
              "benefits               0.402461\n",
              "telecommuting          0.000000\n",
              "has_company_logo       0.000000\n",
              "has_questions          0.000000\n",
              "employment_type        0.194128\n",
              "required_experience    0.394295\n",
              "required_education     0.453300\n",
              "industry               0.274217\n",
              "function               0.361018\n",
              "fraudulent             0.000000\n",
              "in_balanced_dataset    0.000000\n",
              "dtype: float64"
            ],
            "text/html": [
              "<div>\n",
              "<style scoped>\n",
              "    .dataframe tbody tr th:only-of-type {\n",
              "        vertical-align: middle;\n",
              "    }\n",
              "\n",
              "    .dataframe tbody tr th {\n",
              "        vertical-align: top;\n",
              "    }\n",
              "\n",
              "    .dataframe thead th {\n",
              "        text-align: right;\n",
              "    }\n",
              "</style>\n",
              "<table border=\"1\" class=\"dataframe\">\n",
              "  <thead>\n",
              "    <tr style=\"text-align: right;\">\n",
              "      <th></th>\n",
              "      <th>0</th>\n",
              "    </tr>\n",
              "  </thead>\n",
              "  <tbody>\n",
              "    <tr>\n",
              "      <th>title</th>\n",
              "      <td>0.000000</td>\n",
              "    </tr>\n",
              "    <tr>\n",
              "      <th>location</th>\n",
              "      <td>0.019351</td>\n",
              "    </tr>\n",
              "    <tr>\n",
              "      <th>department</th>\n",
              "      <td>0.645805</td>\n",
              "    </tr>\n",
              "    <tr>\n",
              "      <th>salary_range</th>\n",
              "      <td>0.839597</td>\n",
              "    </tr>\n",
              "    <tr>\n",
              "      <th>company_profile</th>\n",
              "      <td>0.185011</td>\n",
              "    </tr>\n",
              "    <tr>\n",
              "      <th>description</th>\n",
              "      <td>0.000000</td>\n",
              "    </tr>\n",
              "    <tr>\n",
              "      <th>requirements</th>\n",
              "      <td>0.150391</td>\n",
              "    </tr>\n",
              "    <tr>\n",
              "      <th>benefits</th>\n",
              "      <td>0.402461</td>\n",
              "    </tr>\n",
              "    <tr>\n",
              "      <th>telecommuting</th>\n",
              "      <td>0.000000</td>\n",
              "    </tr>\n",
              "    <tr>\n",
              "      <th>has_company_logo</th>\n",
              "      <td>0.000000</td>\n",
              "    </tr>\n",
              "    <tr>\n",
              "      <th>has_questions</th>\n",
              "      <td>0.000000</td>\n",
              "    </tr>\n",
              "    <tr>\n",
              "      <th>employment_type</th>\n",
              "      <td>0.194128</td>\n",
              "    </tr>\n",
              "    <tr>\n",
              "      <th>required_experience</th>\n",
              "      <td>0.394295</td>\n",
              "    </tr>\n",
              "    <tr>\n",
              "      <th>required_education</th>\n",
              "      <td>0.453300</td>\n",
              "    </tr>\n",
              "    <tr>\n",
              "      <th>industry</th>\n",
              "      <td>0.274217</td>\n",
              "    </tr>\n",
              "    <tr>\n",
              "      <th>function</th>\n",
              "      <td>0.361018</td>\n",
              "    </tr>\n",
              "    <tr>\n",
              "      <th>fraudulent</th>\n",
              "      <td>0.000000</td>\n",
              "    </tr>\n",
              "    <tr>\n",
              "      <th>in_balanced_dataset</th>\n",
              "      <td>0.000000</td>\n",
              "    </tr>\n",
              "  </tbody>\n",
              "</table>\n",
              "</div><br><label><b>dtype:</b> float64</label>"
            ]
          },
          "metadata": {},
          "execution_count": 7
        }
      ],
      "source": [
        "# Check percentage of data missing for each feature\n",
        "df.isna().sum()/len(df)"
      ]
    },
    {
      "cell_type": "code",
      "execution_count": null,
      "metadata": {
        "colab": {
          "base_uri": "https://localhost:8080/",
          "height": 648
        },
        "id": "0DFeCr4ZvcCZ",
        "outputId": "3d7df981-03e1-4312-be20-9e3ad926860a"
      },
      "outputs": [
        {
          "output_type": "execute_result",
          "data": {
            "text/plain": [
              "title                  11231\n",
              "location                3105\n",
              "department              1337\n",
              "salary_range             874\n",
              "company_profile         1710\n",
              "description            15095\n",
              "requirements           12119\n",
              "benefits                6510\n",
              "telecommuting              2\n",
              "has_company_logo           2\n",
              "has_questions              2\n",
              "employment_type            5\n",
              "required_experience        7\n",
              "required_education        13\n",
              "industry                 131\n",
              "function                  37\n",
              "fraudulent                 2\n",
              "in_balanced_dataset        2\n",
              "dtype: int64"
            ],
            "text/html": [
              "<div>\n",
              "<style scoped>\n",
              "    .dataframe tbody tr th:only-of-type {\n",
              "        vertical-align: middle;\n",
              "    }\n",
              "\n",
              "    .dataframe tbody tr th {\n",
              "        vertical-align: top;\n",
              "    }\n",
              "\n",
              "    .dataframe thead th {\n",
              "        text-align: right;\n",
              "    }\n",
              "</style>\n",
              "<table border=\"1\" class=\"dataframe\">\n",
              "  <thead>\n",
              "    <tr style=\"text-align: right;\">\n",
              "      <th></th>\n",
              "      <th>0</th>\n",
              "    </tr>\n",
              "  </thead>\n",
              "  <tbody>\n",
              "    <tr>\n",
              "      <th>title</th>\n",
              "      <td>11231</td>\n",
              "    </tr>\n",
              "    <tr>\n",
              "      <th>location</th>\n",
              "      <td>3105</td>\n",
              "    </tr>\n",
              "    <tr>\n",
              "      <th>department</th>\n",
              "      <td>1337</td>\n",
              "    </tr>\n",
              "    <tr>\n",
              "      <th>salary_range</th>\n",
              "      <td>874</td>\n",
              "    </tr>\n",
              "    <tr>\n",
              "      <th>company_profile</th>\n",
              "      <td>1710</td>\n",
              "    </tr>\n",
              "    <tr>\n",
              "      <th>description</th>\n",
              "      <td>15095</td>\n",
              "    </tr>\n",
              "    <tr>\n",
              "      <th>requirements</th>\n",
              "      <td>12119</td>\n",
              "    </tr>\n",
              "    <tr>\n",
              "      <th>benefits</th>\n",
              "      <td>6510</td>\n",
              "    </tr>\n",
              "    <tr>\n",
              "      <th>telecommuting</th>\n",
              "      <td>2</td>\n",
              "    </tr>\n",
              "    <tr>\n",
              "      <th>has_company_logo</th>\n",
              "      <td>2</td>\n",
              "    </tr>\n",
              "    <tr>\n",
              "      <th>has_questions</th>\n",
              "      <td>2</td>\n",
              "    </tr>\n",
              "    <tr>\n",
              "      <th>employment_type</th>\n",
              "      <td>5</td>\n",
              "    </tr>\n",
              "    <tr>\n",
              "      <th>required_experience</th>\n",
              "      <td>7</td>\n",
              "    </tr>\n",
              "    <tr>\n",
              "      <th>required_education</th>\n",
              "      <td>13</td>\n",
              "    </tr>\n",
              "    <tr>\n",
              "      <th>industry</th>\n",
              "      <td>131</td>\n",
              "    </tr>\n",
              "    <tr>\n",
              "      <th>function</th>\n",
              "      <td>37</td>\n",
              "    </tr>\n",
              "    <tr>\n",
              "      <th>fraudulent</th>\n",
              "      <td>2</td>\n",
              "    </tr>\n",
              "    <tr>\n",
              "      <th>in_balanced_dataset</th>\n",
              "      <td>2</td>\n",
              "    </tr>\n",
              "  </tbody>\n",
              "</table>\n",
              "</div><br><label><b>dtype:</b> int64</label>"
            ]
          },
          "metadata": {},
          "execution_count": 8
        }
      ],
      "source": [
        "df.nunique()"
      ]
    },
    {
      "cell_type": "code",
      "execution_count": null,
      "metadata": {
        "colab": {
          "base_uri": "https://localhost:8080/"
        },
        "id": "MfDrdXekvguK",
        "outputId": "6104e31f-db1b-477a-db47-08e3c707986b"
      },
      "outputs": [
        {
          "output_type": "execute_result",
          "data": {
            "text/plain": [
              "np.int64(2689)"
            ]
          },
          "metadata": {},
          "execution_count": 9
        }
      ],
      "source": [
        "df['requirements'].isnull().sum()"
      ]
    },
    {
      "cell_type": "code",
      "execution_count": null,
      "metadata": {
        "colab": {
          "base_uri": "https://localhost:8080/"
        },
        "id": "7gxwNxegwRvP",
        "outputId": "53994fbe-809d-428e-f4e7-d4da8e85814d"
      },
      "outputs": [
        {
          "output_type": "execute_result",
          "data": {
            "text/plain": [
              "np.int64(0)"
            ]
          },
          "metadata": {},
          "execution_count": 10
        }
      ],
      "source": [
        "df['description'].isnull().sum()"
      ]
    },
    {
      "cell_type": "code",
      "execution_count": null,
      "metadata": {
        "id": "mMPVuMYXwleP"
      },
      "outputs": [],
      "source": [
        "df1=df['requirements'].copy()"
      ]
    },
    {
      "cell_type": "code",
      "execution_count": null,
      "metadata": {
        "colab": {
          "base_uri": "https://localhost:8080/",
          "height": 458
        },
        "id": "LrmlUF1py1Wg",
        "outputId": "b6e8ec61-89bd-463f-f91e-a2457be07cfe"
      },
      "outputs": [
        {
          "output_type": "execute_result",
          "data": {
            "text/plain": [
              "0        <ul>\\r\\n<li>Experience with content management...\n",
              "1        <p><b>What we expect from you:</b></p>\\r\\n<p>Y...\n",
              "2        <ul>\\r\\n<li>Implement pre-commissioning and co...\n",
              "3        <ul>\\r\\n<li>\\r\\n<b>EDUCATION: </b>Bachelor’s o...\n",
              "4        <p><b>QUALIFICATIONS:</b></p>\\r\\n<ul>\\r\\n<li>R...\n",
              "                               ...                        \n",
              "17875    <p>To ace this role you:</p>\\r\\n<ul>\\r\\n<li>Wi...\n",
              "17876    <p></p>\\r\\n<p>- B.A. or B.S. in Accounting</p>...\n",
              "17877    <ul>\\r\\n<li>At least 12 years professional exp...\n",
              "17878    <p>1. Must be fluent in the latest versions of...\n",
              "17879    <p><b>We want to hear from you if:</b></p>\\r\\n...\n",
              "Name: requirements, Length: 17880, dtype: object"
            ],
            "text/html": [
              "<div>\n",
              "<style scoped>\n",
              "    .dataframe tbody tr th:only-of-type {\n",
              "        vertical-align: middle;\n",
              "    }\n",
              "\n",
              "    .dataframe tbody tr th {\n",
              "        vertical-align: top;\n",
              "    }\n",
              "\n",
              "    .dataframe thead th {\n",
              "        text-align: right;\n",
              "    }\n",
              "</style>\n",
              "<table border=\"1\" class=\"dataframe\">\n",
              "  <thead>\n",
              "    <tr style=\"text-align: right;\">\n",
              "      <th></th>\n",
              "      <th>requirements</th>\n",
              "    </tr>\n",
              "  </thead>\n",
              "  <tbody>\n",
              "    <tr>\n",
              "      <th>0</th>\n",
              "      <td>&lt;ul&gt;\\r\\n&lt;li&gt;Experience with content management...</td>\n",
              "    </tr>\n",
              "    <tr>\n",
              "      <th>1</th>\n",
              "      <td>&lt;p&gt;&lt;b&gt;What we expect from you:&lt;/b&gt;&lt;/p&gt;\\r\\n&lt;p&gt;Y...</td>\n",
              "    </tr>\n",
              "    <tr>\n",
              "      <th>2</th>\n",
              "      <td>&lt;ul&gt;\\r\\n&lt;li&gt;Implement pre-commissioning and co...</td>\n",
              "    </tr>\n",
              "    <tr>\n",
              "      <th>3</th>\n",
              "      <td>&lt;ul&gt;\\r\\n&lt;li&gt;\\r\\n&lt;b&gt;EDUCATION: &lt;/b&gt;Bachelor’s o...</td>\n",
              "    </tr>\n",
              "    <tr>\n",
              "      <th>4</th>\n",
              "      <td>&lt;p&gt;&lt;b&gt;QUALIFICATIONS:&lt;/b&gt;&lt;/p&gt;\\r\\n&lt;ul&gt;\\r\\n&lt;li&gt;R...</td>\n",
              "    </tr>\n",
              "    <tr>\n",
              "      <th>...</th>\n",
              "      <td>...</td>\n",
              "    </tr>\n",
              "    <tr>\n",
              "      <th>17875</th>\n",
              "      <td>&lt;p&gt;To ace this role you:&lt;/p&gt;\\r\\n&lt;ul&gt;\\r\\n&lt;li&gt;Wi...</td>\n",
              "    </tr>\n",
              "    <tr>\n",
              "      <th>17876</th>\n",
              "      <td>&lt;p&gt;&lt;/p&gt;\\r\\n&lt;p&gt;- B.A. or B.S. in Accounting&lt;/p&gt;...</td>\n",
              "    </tr>\n",
              "    <tr>\n",
              "      <th>17877</th>\n",
              "      <td>&lt;ul&gt;\\r\\n&lt;li&gt;At least 12 years professional exp...</td>\n",
              "    </tr>\n",
              "    <tr>\n",
              "      <th>17878</th>\n",
              "      <td>&lt;p&gt;1. Must be fluent in the latest versions of...</td>\n",
              "    </tr>\n",
              "    <tr>\n",
              "      <th>17879</th>\n",
              "      <td>&lt;p&gt;&lt;b&gt;We want to hear from you if:&lt;/b&gt;&lt;/p&gt;\\r\\n...</td>\n",
              "    </tr>\n",
              "  </tbody>\n",
              "</table>\n",
              "<p>17880 rows × 1 columns</p>\n",
              "</div><br><label><b>dtype:</b> object</label>"
            ]
          },
          "metadata": {},
          "execution_count": 12
        }
      ],
      "source": [
        "df1"
      ]
    },
    {
      "cell_type": "code",
      "execution_count": null,
      "metadata": {
        "id": "9Px_pDw3y-nq"
      },
      "outputs": [],
      "source": [
        "df1 = df1.fillna('No requirements provided')\n"
      ]
    },
    {
      "cell_type": "code",
      "execution_count": null,
      "metadata": {
        "colab": {
          "base_uri": "https://localhost:8080/",
          "height": 458
        },
        "id": "wQ2hRhrpzLvX",
        "outputId": "9a796a88-f287-4524-f8c8-16ff0b54ad83"
      },
      "outputs": [
        {
          "output_type": "execute_result",
          "data": {
            "text/plain": [
              "0        <ul>\\r\\n<li>Experience with content management...\n",
              "1        <p><b>What we expect from you:</b></p>\\r\\n<p>Y...\n",
              "2        <ul>\\r\\n<li>Implement pre-commissioning and co...\n",
              "3        <ul>\\r\\n<li>\\r\\n<b>EDUCATION: </b>Bachelor’s o...\n",
              "4        <p><b>QUALIFICATIONS:</b></p>\\r\\n<ul>\\r\\n<li>R...\n",
              "                               ...                        \n",
              "17875    <p>To ace this role you:</p>\\r\\n<ul>\\r\\n<li>Wi...\n",
              "17876    <p></p>\\r\\n<p>- B.A. or B.S. in Accounting</p>...\n",
              "17877    <ul>\\r\\n<li>At least 12 years professional exp...\n",
              "17878    <p>1. Must be fluent in the latest versions of...\n",
              "17879    <p><b>We want to hear from you if:</b></p>\\r\\n...\n",
              "Name: requirements, Length: 17880, dtype: object"
            ],
            "text/html": [
              "<div>\n",
              "<style scoped>\n",
              "    .dataframe tbody tr th:only-of-type {\n",
              "        vertical-align: middle;\n",
              "    }\n",
              "\n",
              "    .dataframe tbody tr th {\n",
              "        vertical-align: top;\n",
              "    }\n",
              "\n",
              "    .dataframe thead th {\n",
              "        text-align: right;\n",
              "    }\n",
              "</style>\n",
              "<table border=\"1\" class=\"dataframe\">\n",
              "  <thead>\n",
              "    <tr style=\"text-align: right;\">\n",
              "      <th></th>\n",
              "      <th>requirements</th>\n",
              "    </tr>\n",
              "  </thead>\n",
              "  <tbody>\n",
              "    <tr>\n",
              "      <th>0</th>\n",
              "      <td>&lt;ul&gt;\\r\\n&lt;li&gt;Experience with content management...</td>\n",
              "    </tr>\n",
              "    <tr>\n",
              "      <th>1</th>\n",
              "      <td>&lt;p&gt;&lt;b&gt;What we expect from you:&lt;/b&gt;&lt;/p&gt;\\r\\n&lt;p&gt;Y...</td>\n",
              "    </tr>\n",
              "    <tr>\n",
              "      <th>2</th>\n",
              "      <td>&lt;ul&gt;\\r\\n&lt;li&gt;Implement pre-commissioning and co...</td>\n",
              "    </tr>\n",
              "    <tr>\n",
              "      <th>3</th>\n",
              "      <td>&lt;ul&gt;\\r\\n&lt;li&gt;\\r\\n&lt;b&gt;EDUCATION: &lt;/b&gt;Bachelor’s o...</td>\n",
              "    </tr>\n",
              "    <tr>\n",
              "      <th>4</th>\n",
              "      <td>&lt;p&gt;&lt;b&gt;QUALIFICATIONS:&lt;/b&gt;&lt;/p&gt;\\r\\n&lt;ul&gt;\\r\\n&lt;li&gt;R...</td>\n",
              "    </tr>\n",
              "    <tr>\n",
              "      <th>...</th>\n",
              "      <td>...</td>\n",
              "    </tr>\n",
              "    <tr>\n",
              "      <th>17875</th>\n",
              "      <td>&lt;p&gt;To ace this role you:&lt;/p&gt;\\r\\n&lt;ul&gt;\\r\\n&lt;li&gt;Wi...</td>\n",
              "    </tr>\n",
              "    <tr>\n",
              "      <th>17876</th>\n",
              "      <td>&lt;p&gt;&lt;/p&gt;\\r\\n&lt;p&gt;- B.A. or B.S. in Accounting&lt;/p&gt;...</td>\n",
              "    </tr>\n",
              "    <tr>\n",
              "      <th>17877</th>\n",
              "      <td>&lt;ul&gt;\\r\\n&lt;li&gt;At least 12 years professional exp...</td>\n",
              "    </tr>\n",
              "    <tr>\n",
              "      <th>17878</th>\n",
              "      <td>&lt;p&gt;1. Must be fluent in the latest versions of...</td>\n",
              "    </tr>\n",
              "    <tr>\n",
              "      <th>17879</th>\n",
              "      <td>&lt;p&gt;&lt;b&gt;We want to hear from you if:&lt;/b&gt;&lt;/p&gt;\\r\\n...</td>\n",
              "    </tr>\n",
              "  </tbody>\n",
              "</table>\n",
              "<p>17880 rows × 1 columns</p>\n",
              "</div><br><label><b>dtype:</b> object</label>"
            ]
          },
          "metadata": {},
          "execution_count": 14
        }
      ],
      "source": [
        "df1"
      ]
    },
    {
      "cell_type": "code",
      "execution_count": null,
      "metadata": {
        "colab": {
          "base_uri": "https://localhost:8080/"
        },
        "id": "XfAPXYpNzWME",
        "outputId": "6b6e9fdb-0457-476c-cba2-f16218541cc3"
      },
      "outputs": [
        {
          "output_type": "execute_result",
          "data": {
            "text/plain": [
              "np.int64(0)"
            ]
          },
          "metadata": {},
          "execution_count": 15
        }
      ],
      "source": [
        "df1.isnull().sum()"
      ]
    },
    {
      "cell_type": "code",
      "execution_count": null,
      "metadata": {
        "id": "NCbtQT90zcmN"
      },
      "outputs": [],
      "source": [
        "df['text']=df['description']+df1"
      ]
    },
    {
      "cell_type": "code",
      "execution_count": null,
      "metadata": {
        "colab": {
          "base_uri": "https://localhost:8080/",
          "height": 163
        },
        "id": "d26Kn4uJzmqY",
        "outputId": "3f28e95f-6c2f-4c33-c077-70563c21e77e"
      },
      "outputs": [
        {
          "output_type": "execute_result",
          "data": {
            "text/plain": [
              "\"<p><b>THE COMPANY: ESRI – Environmental Systems Research Institute</b></p>\\r\\n<p>Our passion for improving quality of life through geography is at the heart of everything we do.\\xa0 Esri’s geographic information system (GIS) technology inspires and enables governments, universities and businesses worldwide to save money, lives and our environment through a deeper understanding of the changing world around them.</p>\\r\\n<p>Carefully managed growth and zero debt give Esri stability that is uncommon in today's volatile business world.\\xa0 Privately held, we offer exceptional benefits, competitive salaries, 401(k) and profit-sharing programs, opportunities for personal and professional growth, and much more.</p>\\r\\n<p><b>THE OPPORTUNITY: Account Executive</b></p>\\r\\n<p>As a member of the Sales Division, you will work collaboratively with an account team in order to sell and promote adoption of Esri’s ArcGIS platform within an organization. As part of an account team, you will be responsible for facilitating the development and execution of a set of strategies for a defined portfolio of accounts. When executing these strategies you will utilize your experience in enterprise sales to help customers leverage geospatial information and technology to achieve their business goals.\\xa0</p>\\r\\n<p><b><i>Specifically…</i></b></p>\\r\\n<ul>\\r\\n<li>Prospect and develop opportunities to partner with key stakeholders to envision, develop, and implement a location strategy for their organization</li>\\r\\n<li>Clearly articulate the strength and value proposition of the ArcGIS platform</li>\\r\\n<li>Develop and maintain a healthy pipeline of opportunities for business growth</li>\\r\\n<li>Demonstrate a thoughtful understanding of insightful industry knowledge and how GIS applies to initiatives, trends, and triggers</li>\\r\\n<li>Understand the key business drivers within an organization and identify key business stakeholders</li>\\r\\n<li>Understand your customers’ budgeting and acquisition processes</li>\\r\\n<li>Successfully execute the account management process including account prioritization, account resourcing, and account planning</li>\\r\\n<li>Successfully execute the sales process for all opportunities</li>\\r\\n<li>Leverage and lead an account team consisting of sales and other cross-divisional resources to define and execute an account strategy</li>\\r\\n<li>Effectively utilize and leverage the CRM to manage opportunities and drive the buying process</li>\\r\\n<li>Pursue professional and personal development to ensure competitive knowledge of the real estate industry</li>\\r\\n<li>Leverage social media to successfully prospect and build a professional network</li>\\r\\n<li>Participate in trade shows, workshops, and seminars (as required)</li>\\r\\n<li>Support visual story telling through effective whiteboard sessions</li>\\r\\n<li>Be resourceful and takes initiative to resolve issues</li>\\r\\n</ul><ul>\\r\\n<li>\\r\\n<b>EDUCATION:\\xa0</b>Bachelor’s or Master’s in GIS, business administration, or a related field, or equivalent work experience, depending on position level</li>\\r\\n<li>\\r\\n<b>EXPERIENCE:\\xa0</b>5+ years of enterprise sales experience providing platform solutions to businesses</li>\\r\\n<li>Demonstrated experience in managing the sales cycle including prospecting, proposing, and closing</li>\\r\\n<li>Ability to adapt to new technology trends and translate them into solutions that address customer needs</li>\\r\\n<li>Demonstrated experience with strong partnerships and advocacy with customers</li>\\r\\n<li>Excellent presentation, white boarding, and negotiation skills including good listening, probing, and qualification abilities</li>\\r\\n<li>Experience executing insight selling methodologies</li>\\r\\n<li>Demonstrated understanding and mitigation of competitive threats</li>\\r\\n<li>Excellent written and verbal communication and interpersonal skills</li>\\r\\n<li>Ability to manage and prioritize your activities</li>\\r\\n<li>Demonstrated experience to lead executive engagements to provide services and sell to the real estate industry</li>\\r\\n<li>Knowledge of the real estate industry fiscal year, budgeting, and procurement cycle</li>\\r\\n<li>Highly motivated team player with a mature, positive attitude and passion to meet the challenges and opportunities of a business</li>\\r\\n<li>Ability to travel domestically and/or internationally up to 50%</li>\\r\\n<li>General knowledge of spatial analysis and problem solving</li>\\r\\n<li>Results oriented; ability to write and craft smart, attainable, realistic, time-driven goals with clear lead indicators</li>\\r\\n</ul>\""
            ],
            "application/vnd.google.colaboratory.intrinsic+json": {
              "type": "string"
            }
          },
          "metadata": {},
          "execution_count": 17
        }
      ],
      "source": [
        "df['text'].loc[3]"
      ]
    },
    {
      "cell_type": "code",
      "execution_count": null,
      "metadata": {
        "colab": {
          "base_uri": "https://localhost:8080/",
          "height": 458
        },
        "id": "bsdfF8Ybzpm5",
        "outputId": "97ad902f-b904-4569-f150-0303265fbb2a"
      },
      "outputs": [
        {
          "output_type": "execute_result",
          "data": {
            "text/plain": [
              "0        f\n",
              "1        f\n",
              "2        f\n",
              "3        f\n",
              "4        f\n",
              "        ..\n",
              "17875    f\n",
              "17876    f\n",
              "17877    f\n",
              "17878    f\n",
              "17879    f\n",
              "Name: fraudulent, Length: 17880, dtype: object"
            ],
            "text/html": [
              "<div>\n",
              "<style scoped>\n",
              "    .dataframe tbody tr th:only-of-type {\n",
              "        vertical-align: middle;\n",
              "    }\n",
              "\n",
              "    .dataframe tbody tr th {\n",
              "        vertical-align: top;\n",
              "    }\n",
              "\n",
              "    .dataframe thead th {\n",
              "        text-align: right;\n",
              "    }\n",
              "</style>\n",
              "<table border=\"1\" class=\"dataframe\">\n",
              "  <thead>\n",
              "    <tr style=\"text-align: right;\">\n",
              "      <th></th>\n",
              "      <th>fraudulent</th>\n",
              "    </tr>\n",
              "  </thead>\n",
              "  <tbody>\n",
              "    <tr>\n",
              "      <th>0</th>\n",
              "      <td>f</td>\n",
              "    </tr>\n",
              "    <tr>\n",
              "      <th>1</th>\n",
              "      <td>f</td>\n",
              "    </tr>\n",
              "    <tr>\n",
              "      <th>2</th>\n",
              "      <td>f</td>\n",
              "    </tr>\n",
              "    <tr>\n",
              "      <th>3</th>\n",
              "      <td>f</td>\n",
              "    </tr>\n",
              "    <tr>\n",
              "      <th>4</th>\n",
              "      <td>f</td>\n",
              "    </tr>\n",
              "    <tr>\n",
              "      <th>...</th>\n",
              "      <td>...</td>\n",
              "    </tr>\n",
              "    <tr>\n",
              "      <th>17875</th>\n",
              "      <td>f</td>\n",
              "    </tr>\n",
              "    <tr>\n",
              "      <th>17876</th>\n",
              "      <td>f</td>\n",
              "    </tr>\n",
              "    <tr>\n",
              "      <th>17877</th>\n",
              "      <td>f</td>\n",
              "    </tr>\n",
              "    <tr>\n",
              "      <th>17878</th>\n",
              "      <td>f</td>\n",
              "    </tr>\n",
              "    <tr>\n",
              "      <th>17879</th>\n",
              "      <td>f</td>\n",
              "    </tr>\n",
              "  </tbody>\n",
              "</table>\n",
              "<p>17880 rows × 1 columns</p>\n",
              "</div><br><label><b>dtype:</b> object</label>"
            ]
          },
          "metadata": {},
          "execution_count": 18
        }
      ],
      "source": [
        "df['fraudulent']"
      ]
    },
    {
      "cell_type": "code",
      "execution_count": null,
      "metadata": {
        "colab": {
          "base_uri": "https://localhost:8080/"
        },
        "id": "uQoh1NWF08lF",
        "outputId": "b53f3626-b4ef-4fda-d6a7-441543a26ae6"
      },
      "outputs": [
        {
          "output_type": "stream",
          "name": "stdout",
          "text": [
            "['\\t', '\\n', '\\r', ' ', '!', '\"', '#', '$', '%', '&', \"'\", '(', ')', '*', '+', ',', '-', '.', '/', '0', '1', '2', '3', '4', '5', '6', '7', '8', '9', ':', ';', '<', '=', '>', '?', '@', 'A', 'B', 'C', 'D', 'E', 'F', 'G', 'H', 'I', 'J', 'K', 'L', 'M', 'N', 'O', 'P', 'Q', 'R', 'S', 'T', 'U', 'V', 'W', 'X', 'Y', 'Z', '[', '\\\\', ']', '^', '_', '`', 'a', 'b', 'c', 'd', 'e', 'f', 'g', 'h', 'i', 'j', 'k', 'l', 'm', 'n', 'o', 'p', 'q', 'r', 's', 't', 'u', 'v', 'w', 'x', 'y', 'z', '{', '|', '}', '~', '\\x7f', '\\x85', '\\x92', '\\x96', '\\x9f', '\\xa0', '¢', '£', '¤', '§', '¨', '©', '«', '\\xad', '®', '°', '´', '·', '»', '¼', '½', '¿', 'Á', 'Â', 'Å', 'É', 'Î', 'Ó', '×', 'Ø', 'Ü', 'ß', 'à', 'á', 'â', 'ã', 'ä', 'å', 'æ', 'è', 'é', 'ê', 'ë', 'í', 'ï', 'ñ', 'ó', 'ö', 'ø', 'ú', 'ü', 'Ą', 'ą', 'ć', 'Ę', 'ę', 'ł', 'ń', 'ś', 'š', 'ż', 'ʻ', 'ʼ', '˚', '̈', '΄', 'Ά', 'Έ', 'Ό', 'Α', 'Β', 'Γ', 'Δ', 'Ε', 'Ζ', 'Η', 'Θ', 'Ι', 'Κ', 'Λ', 'Μ', 'Ν', 'Ξ', 'Ο', 'Π', 'Ρ', 'Σ', 'Τ', 'Υ', 'Φ', 'Χ', 'Ψ', 'Ω', 'ά', 'έ', 'ή', 'ί', 'α', 'β', 'γ', 'δ', 'ε', 'ζ', 'η', 'θ', 'ι', 'κ', 'λ', 'μ', 'ν', 'ξ', 'ο', 'π', 'ρ', 'ς', 'σ', 'τ', 'υ', 'φ', 'χ', 'ψ', 'ω', 'ϊ', 'ϋ', 'ό', 'ύ', 'ώ', 'и', 'ก', 'ข', 'ค', 'ง', 'จ', 'ช', 'ซ', 'ญ', 'ฏ', 'ฒ', 'ณ', 'ด', 'ต', 'ถ', 'ท', 'ธ', 'น', 'บ', 'ป', 'ผ', 'พ', 'ภ', 'ม', 'ย', 'ร', 'ฤ', 'ล', 'ว', 'ศ', 'ษ', 'ส', 'ห', 'ฬ', 'อ', 'ะ', 'ั', 'า', 'ำ', 'ิ', 'ี', 'ึ', 'ื', 'ุ', 'ู', 'เ', 'แ', 'โ', 'ใ', 'ไ', 'ๆ', '็', '่', '้', '์', '\\u2003', '\\u200b', '\\u200e', '‐', '‑', '‒', '–', '—', '―', '‘', '’', '“', '”', '„', '•', '‣', '…', '\\u2028', '\\u202a', '\\u202f', '″', '€', '№', '™', '→', '∙', '≈', '■', '▪', '►', '◄', '○', '●', '◦', '✔', '✦', '\\u3000', '、', '。', 'あ', 'い', 'う', 'お', 'か', 'が', 'き', 'く', 'け', 'げ', 'さ', 'し', 'す', 'せ', 'ぜ', 'た', 'だ', 'ち', 'っ', 'て', 'で', 'と', 'ど', 'な', 'に', 'の', 'は', 'ひ', 'び', 'ま', 'め', 'ら', 'り', 'る', 'れ', 'を', 'ァ', 'ア', 'イ', 'エ', 'ォ', 'ク', 'コ', 'サ', 'ジ', 'ス', 'ズ', 'ソ', 'チ', 'ッ', 'ツ', 'テ', 'ト', 'ド', 'ナ', 'ニ', 'ネ', 'ハ', 'バ', 'パ', 'ビ', 'フ', 'プ', 'ベ', 'マ', 'ム', 'モ', 'ャ', 'ラ', 'リ', 'ル', 'ワ', 'ン', '・', 'ー', '一', '上', '下', '不', '且', '並', '中', '主', '久', '之', '了', '事', '交', '亦', '享', '京', '人', '介', '仕', '代', '以', '件', '任', '企', '伴', '位', '住', '佔', '作', '你', '佳', '使', '例', '供', '便', '係', '們', '備', '元', '內', '全', '公', '共', '具', '内', '出', '分', '利', '到', '刻', '前', '割', '創', '劃', '力', '功', '助', '努', '動', '務', '勤', '包', '化', '北', '卓', '協', '去', '及', '受', '台', '司', '各', '合', '同', '名', '向', '吸', '告', '味', '命', '和', '品', '員', '問', '善', '営', '国', '國', '團', '在', '地', '基', '場', '壓', '壯', '売', '変', '多', '夢', '夥', '大', '好', '如', '宗', '定', '客', '家', '容', '富', '將', '尋', '對', '導', '居', '屏', '履', '山', '工', '巧', '差', '己', '已', '市', '希', '師', '幕', '平', '年', '広', '店', '度', '廣', '式', '強', '当', '役', '待', '後', '徵', '心', '快', '忱', '思', '性', '息', '您', '情', '想', '愉', '意', '態', '慧', '應', '成', '我', '截', '戰', '戶', '所', '手', '找', '技', '投', '抗', '担', '括', '持', '挑', '探', '接', '提', '携', '播', '擁', '擇', '擔', '改', '效', '文', '新', '斷', '方', '於', '日', '旨', '是', '智', '暢', '更', '曾', '最', '有', '服', '望', '期', '本', '東', '析', '果', '格', '條', '業', '極', '樑', '橋', '機', '止', '此', '歷', '永', '求', '決', '法', '活', '流', '消', '渠', '湾', '溝', '灣', '為', '烈', '熱', '營', '爾', '率', '理', '生', '產', '用', '由', '申', '界', '當', '発', '發', '的', '目', '相', '着', '睛', '知', '短', '研', '礎', '示', '社', '神', '程', '種', '究', '立', '第', '等', '策', '管', '簡', '精', '約', '経', '經', '網', '編', '總', '績', '美', '群', '者', '聆', '聯', '職', '聽', '能', '自', '臺', '與', '興', '舊', '英', '茁', '萬', '落', '處', '螢', '行', '表', '衷', '裡', '規', '解', '訊', '設', '語', '請', '識', '讓', '豐', '負', '責', '資', '越', '趣', '跨', '輯', '追', '透', '通', '速', '連', '進', '運', '過', '道', '達', '遞', '遠', '適', '選', '部', '重', '金', '鎖', '長', '開', '関', '關', '隊', '需', '面', '革', '韓', '頁', '項', '題', '願', '顯', '首', '験', '驗', '驚', '體', '高', '點', '가', '각', '간', '감', '갖', '개', '거', '것', '게', '격', '결', '경', '계', '고', '골', '공', '과', '관', '괄', '광', '구', '국', '굴', '권', '규', '그', '극', '근', '글', '금', '급', '기', '길', '께', '꼼', '꿈', '꿔', '나', '날', '남', '내', '낸', '낼', '너', '널', '넘', '네', '년', '념', '노', '누', '는', '능', '니', '다', '단', '달', '담', '당', '대', '더', '덕', '데', '도', '동', '되', '될', '됩', '두', '드', '든', '들', '등', '디', '딩', '따', '딱', '떻', '라', '락', '란', '람', '랍', '램', '랫', '략', '량', '런', '럴', '레', '렉', '려', '력', '로', '록', '료', '루', '룰', '르', '른', '를', '름', '리', '린', '립', '마', '만', '맞', '매', '며', '면', '명', '모', '무', '문', '미', '민', '및', '바', '반', '받', '발', '배', '버', '번', '벌', '법', '베', '벨', '벽', '변', '보', '복', '본', '부', '분', '불', '비', '빌', '빠', '사', '산', '상', '새', '색', '샌', '생', '서', '석', '선', '설', '성', '세', '셀', '셋', '션', '소', '손', '수', '숫', '쉬', '스', '습', '시', '식', '신', '실', '심', '십', '싶', '써', '아', '안', '알', '애', '액', '앱', '야', '약', '양', '어', '언', '업', '없', '었', '에', '엑', '여', '역', '연', '열', '영', '예', '오', '온', '와', '완', '외', '요', '용', '우', '욱', '운', '워', '원', '월', '웹', '위', '유', '율', '으', '은', '을', '의', '이', '익', '인', '일', '입', '있', '자', '작', '잠', '장', '재', '저', '적', '전', '정', '제', '젝', '조', '좋', '주', '준', '중', '즈', '즐', '즘', '지', '직', '진', '질', '집', '징', '착', '창', '찾', '채', '처', '첫', '체', '초', '총', '최', '축', '춘', '출', '충', '츠', '캠', '컨', '케', '코', '쾅', '쿄', '크', '큰', '클', '키', '킬', '타', '탕', '태', '터', '텐', '템', '통', '트', '특', '팀', '팅', '파', '페', '포', '폴', '폼', '표', '품', '풍', '프', '플', '피', '필', '하', '한', '할', '함', '합', '항', '해', '했', '행', '향', '허', '험', '혁', '현', '협', '형', '혹', '화', '확', '환', '활', '회', '획', '효', '후', '휴', '흐', '희', '히', '\\uf09f', '\\uf0a7', '\\uf0b7', '\\uf0fc', 'ﬁ', 'ﬂ', '！', '）', '，', '１', '２', '３', '￼', '�', '\\U00100083']\n"
          ]
        }
      ],
      "source": [
        "# Get all unique characters from the 'text' column\n",
        "chars = set()\n",
        "\n",
        "for value in df['text']:\n",
        "    if isinstance(value, str):\n",
        "        chars.update(set(value))\n",
        "\n",
        "print(sorted(chars))  # Optional: sort to make it easier to view\n"
      ]
    },
    {
      "cell_type": "code",
      "execution_count": null,
      "metadata": {
        "id": "oIWl4iee1g4O"
      },
      "outputs": [],
      "source": [
        "import re\n",
        "def remove_bullet_points(text):\n",
        "    # Define pattern to match bullet points\n",
        "    bullet_point_pattern = re.compile(r'\\s*[\\u2022\\u2023\\u25E6]\\s*')  # Matches •, ‣, and ◦ bullet points\n",
        "\n",
        "    # Remove bullet points from the text\n",
        "    cleaned_text = bullet_point_pattern.sub(' ', text)\n",
        "\n",
        "    return cleaned_text\n",
        "def remove_emojis_and_symbols_from_text(text):\n",
        "    # Define pattern to match emojis\n",
        "    emoji_pattern = re.compile(\"[\"\n",
        "                           u\"\\U0001F600-\\U0001F64F\"  # emoticons\n",
        "                           u\"\\U0001F300-\\U0001F5FF\"  # symbols & pictographs\n",
        "                           u\"\\U0001F680-\\U0001F6FF\"  # transport & map symbols\n",
        "                           u\"\\U0001F1E0-\\U0001F1FF\"  # flags (iOS)\n",
        "                           u\"\\U00002500-\\U00002BEF\"  # chinese char\n",
        "                           u\"\\U00002702-\\U000027B0\"\n",
        "                           u\"\\U00002702-\\U000027B0\"\n",
        "                           u\"\\U000024C2-\\U0001F251\"\n",
        "                           u\"\\U0001f926-\\U0001f937\"\n",
        "                           u\"\\U00010000-\\U0010ffff\"\n",
        "                           u\"\\u2640-\\u2642\"\n",
        "                           u\"\\u2600-\\u2B55\"\n",
        "                           u\"\\u200d\"\n",
        "                           u\"\\u23cf\"\n",
        "                           u\"\\u23e9\"\n",
        "                           u\"\\u231a\"\n",
        "                           u\"\\ufe0f\"  # dingbats\n",
        "                           u\"\\u3030\"\n",
        "                           u\"\\u00ae\" # trade Marks ®\n",
        "                           u\"\\u00A9\" # copy Right ©\n",
        "                           u\"\\u2122\" # Trade Mark TM\n",
        "                           u\"\\u200b\"\n",
        "                           \"]+\", flags=re.UNICODE)\n",
        "    # Remove emojis from the text\n",
        "    cleaned_text = emoji_pattern.sub(r' ', text)\n",
        "    return cleaned_text\n",
        "def decontraction(x):\n",
        "    contractions = {\n",
        "        \"you've\": 'you have',\n",
        "        \"you're\": 'you are',\n",
        "        \"haven't\": 'have not',\n",
        "        \"hasn't\": 'has not',\n",
        "        \"hadn't've\": 'had not have',\n",
        "        \"hadn't\": 'had not',\n",
        "        \"don't\": 'do not',\n",
        "        \"doesn't\": 'does not',\n",
        "        \"didn't\": 'did not',\n",
        "        \"couldn't've\": 'could not have',\n",
        "        \"couldn't\": 'could not',\n",
        "        \"could've\": 'could have',\n",
        "        \"'cause\": 'because',\n",
        "        \"can't've\": 'cannot have',\n",
        "        \"aren't\": 'are not',\n",
        "        \"ain't\": 'am not',\n",
        "        \"can't\": 'can not',\n",
        "        \"won't\": 'will not',\n",
        "        \"he'd\": 'he would',\n",
        "        \"he'd've\": 'he would have',\n",
        "        \"he'll\": 'he will',\n",
        "        \"he'll've\": 'he will have',\n",
        "        \"he's\": 'he is',\n",
        "        \"how'd\": 'how did',\n",
        "        \"how'd'y\": 'how do you',\n",
        "        \"how'll\": 'how will',\n",
        "        \"how's\": 'how does',\n",
        "        \"i'd\": 'i would',\n",
        "        \"i'd've\": 'i would have',\n",
        "        \"i'll\": 'i will',\n",
        "        \"i'll've\": 'i will have',\n",
        "        \"i'm\": 'i am',\n",
        "        \"i've\": 'i have',\n",
        "        \"isn't\": 'is not',\n",
        "        \"it'd\": 'it would',\n",
        "        \"it'd've\": 'it would have',\n",
        "        \"it'll\": 'it will',\n",
        "        \"it'll've\": 'it will have',\n",
        "        \"it's\": 'it is',\n",
        "        \"let's\": 'let us',\n",
        "        \"ma'am\": 'madam',\n",
        "        \"mayn't\": 'may not',\n",
        "        \"might've\": 'might have',\n",
        "        \"mightn't\": 'might not',\n",
        "        \"mightn't've\": 'might not have',\n",
        "        \"must've\": 'must have',\n",
        "        \"mustn't\": 'must not',\n",
        "        \"mustn't've\": 'must not have',\n",
        "        \"needn't\": 'need not',\n",
        "        \"needn't've\": 'need not have',\n",
        "        \"o'clock\": 'of the clock',\n",
        "        \"oughtn't\": 'ought not',\n",
        "        \"oughtn't've\": 'ought not have',\n",
        "        \"shan't\": 'shall not',\n",
        "        \"sha'n't\": 'shall not',\n",
        "        \"shan't've\": 'shall not have',\n",
        "        \"she'd\": 'she would',\n",
        "        \"she'd've\": 'she would have',\n",
        "        \"she'll\": 'she will',\n",
        "        \"she'll've\": 'she will have',\n",
        "        \"she's\": 'she is',\n",
        "        \"should've\": 'should have',\n",
        "        \"shouldn't\": 'should not',\n",
        "        \"shouldn't've\": 'should not have',\n",
        "        \"so've\": 'so have',\n",
        "        \"so's\": 'so is',\n",
        "        \"that'd\": 'that would',\n",
        "        \"that'd've\": 'that would have',\n",
        "        \"that's\": 'that is',\n",
        "        \"there'd\": 'there would',\n",
        "        \"there'd've\": 'there would have',\n",
        "        \"there's\": 'there is',\n",
        "        \"they'd\": 'they would',\n",
        "        \"they'd've\": 'they would have',\n",
        "        \"they'll\": 'they will',\n",
        "        \"they'll've\": 'they will have',\n",
        "        \"they're\": 'they are',\n",
        "        \"they've\": 'they have',\n",
        "        \"to've\": 'to have',\n",
        "        \"wasn't\": 'was not',\n",
        "        \"we're\": 'we are',\n",
        "        \"'s\": \" is\",\n",
        "        \"n't\": ' not',\n",
        "        \"'re\": ' are',\n",
        "        \"'d\": ' would',\n",
        "        \"'ll\": ' will',\n",
        "        \"'t\": ' not',\n",
        "        \"'ve\": ' have',\n",
        "        \"'m\": ' am',\n",
        "        ' u ': ' you ',\n",
        "        ' ur ': ' your ',\n",
        "        ' n ': ' and '\n",
        "    }\n",
        "\n",
        "    contractions_comma = {\n",
        "        \"you’ve\": 'you have',\n",
        "        \"you’re\": 'you are',\n",
        "        \"haven’t\": 'have not',\n",
        "        \"hasn’t\": 'has not',\n",
        "        \"hadn’t've\": 'had not have',\n",
        "        \"hadn’t\": 'had not',\n",
        "        \"don’t\": 'do not',\n",
        "        \"doesn’t\": 'does not',\n",
        "        \"didn’t\": 'did not',\n",
        "        \"couldn’t’ve\": 'could not have',\n",
        "        \"couldn’t\": 'could not',\n",
        "        \"could’ve\": 'could have',\n",
        "        \"’cause\": 'because',\n",
        "        \"can’t’ve\": 'cannot have',\n",
        "        \"aren’t\": 'are not',\n",
        "        \"ain’t\": 'am not',\n",
        "        \"can’t\": 'can not',\n",
        "        \"won’t\": 'will not',\n",
        "        \"he’d\": 'he would',\n",
        "        \"he'd've\": 'he would have',\n",
        "        \"he’ll\": 'he will',\n",
        "        \"he’ll’ve\": 'he will have',\n",
        "        \"he’s\": 'he is',\n",
        "        \"how’d\": 'how did',\n",
        "        \"how’d'y\": 'how do you',\n",
        "        \"how’ll\": 'how will',\n",
        "        \"how’s\": 'how does',\n",
        "        \"i’d\": 'i would',\n",
        "        \"i’d’ve\": 'i would have',\n",
        "        \"i’ll\": 'i will',\n",
        "        \"i’ll’ve\": 'i will have',\n",
        "        \"i’m\": 'i am',\n",
        "        \"i’ve\": 'i have',\n",
        "        \"isn’t\": 'is not',\n",
        "        \"it’d\": 'it would',\n",
        "        \"it’d’ve\": 'it would have',\n",
        "        \"it’ll\": 'it will',\n",
        "        \"it'll've\": 'it will have',\n",
        "        \"it’s\": 'it is',\n",
        "        \"let's\": 'let us',\n",
        "        \"ma’am\": 'madam',\n",
        "        \"mayn’t\": 'may not',\n",
        "        \"might’ve\": 'might have',\n",
        "        \"mightn’t\": 'might not',\n",
        "        \"mightn’t've\": 'might not have',\n",
        "        \"must’ve\": 'must have',\n",
        "        \"mustn’t\": 'must not',\n",
        "        \"mustn’t’ve\": 'must not have',\n",
        "        \"needn’t\": 'need not',\n",
        "        \"needn’t’ve\": 'need not have',\n",
        "        \"o’clock\": 'of the clock',\n",
        "        \"oughtn’t\": 'ought not',\n",
        "        \"oughtn’t’ve\": 'ought not have',\n",
        "        \"shan’t\": 'shall not',\n",
        "        \"sha’n’t\": 'shall not',\n",
        "        \"shan’t’ve\": 'shall not have',\n",
        "        \"she’d\": 'she would',\n",
        "        \"she’d’ve\": 'she would have',\n",
        "        \"she’ll\": 'she will',\n",
        "        \"she’ll’ve\": 'she will have',\n",
        "        \"she’s\": 'she is',\n",
        "        \"should’ve\": 'should have',\n",
        "        \"shouldn’t\": 'should not',\n",
        "        \"shouldn't've\": 'should not have',\n",
        "        \"so’ve\": 'so have',\n",
        "        \"so's\": 'so is',\n",
        "        \"that’d\": 'that would',\n",
        "        \"that’d've\": 'that would have',\n",
        "        \"that’s\": 'that is',\n",
        "        \"there’d\": 'there would',\n",
        "        \"there’d’ve\": 'there would have',\n",
        "        \"there’s\": 'there is',\n",
        "        \"they’d\": 'they would',\n",
        "        \"they’d've\": 'they would have',\n",
        "        \"they’ll\": 'they will',\n",
        "        \"they’ll've\": 'they will have',\n",
        "        \"they’re\": 'they are',\n",
        "        \"they’ve\": 'they have',\n",
        "        \"to’ve\": 'to have',\n",
        "        \"wasn’t\": 'was not',\n",
        "        \"we’re\": 'we are',\n",
        "        \"’s\": \" is\",\n",
        "        \"n’t\": ' not',\n",
        "        \"’re\": ' are',\n",
        "        \"’d\": ' would',\n",
        "        \"’ll\": ' will',\n",
        "        \"’t\": ' not',\n",
        "        \"’ve\": ' have',\n",
        "        \"’m\": ' am',\n",
        "        ' u ': ' you ',\n",
        "        ' ur ': ' your ',\n",
        "        ' n ': ' and '\n",
        "    }\n",
        "\n",
        "    for key in contractions:\n",
        "        value = contractions[key]\n",
        "        x = x.replace(key, value)\n",
        "\n",
        "    for key in contractions_comma:\n",
        "        value = contractions_comma[key]\n",
        "        x = x.replace(key, value)\n",
        "    return x\n",
        "\n",
        "def removepunc(x):\n",
        "    punctuation = '!\\xad\\xa0\\xe2\\x80\\x9d\\xe2\\x80\\x99\\xe2\\x80\\xa2()*+-/:;<=>[]^_`{|}~@#,.?$%&\"”“’‘\\'…<>«»'\n",
        "    translation_table = str.maketrans(punctuation, ' ' * len(punctuation))\n",
        "    return x.translate(translation_table)\n",
        "\n",
        "def remove_extra_spaces(text):\n",
        "    return re.sub(r'\\s+', ' ', text)\n",
        "\n",
        "def remove_html_tags(text):\n",
        "    clean = re.compile('<.*?>')\n",
        "    return re.sub(clean, ' ', text)\n",
        "\n",
        "def remove_ampersand(text):\n",
        "    text = text.replace('&amp;', '')\n",
        "    text = text.replace('andamp;', '')\n",
        "    return text\n",
        "def remove_code_from_text(text):\n",
        "    # Defining the pattern to match the code\n",
        "    code_pattern = r'\\b[0-9a-fA-F]{64}\\b'  # Assuming the code is a 64-character hexadecimal string\n",
        "\n",
        "    # Remove the code from the text\n",
        "    cleaned_text = re.sub(code_pattern, ' ', text)\n",
        "\n",
        "    return cleaned_text\n",
        "def remove_number_from_text(text):\n",
        "    # Defining the pattern to match the code\n",
        "    number_pattern = r'[0-9]'  # Assuming the code is a 64-character hexadecimal string\n",
        "\n",
        "    # Remove the code from the text\n",
        "    cleaned_text = re.sub(number_pattern, ' ', text)\n",
        "\n",
        "    return cleaned_text\n",
        "def remove_greek_words(text):\n",
        "    # Define pattern to match Greek words\n",
        "    greek_pattern = re.compile(r'\\b[α-ωΑ-Ωίϊΐόάέύϋΰήώ]+\\b', flags=re.IGNORECASE)\n",
        "\n",
        "    # Remove Greek words from the text\n",
        "    cleaned_text = greek_pattern.sub(' ', text)\n",
        "\n",
        "    return cleaned_text\n",
        "def remove_russian_words(text):\n",
        "    # Define pattern to match Russian words\n",
        "    russian_pattern = re.compile(r'\\b[а-яА-Я]+\\b')  # Matches Russian words\n",
        "\n",
        "    # Remove Russian words from the text\n",
        "    cleaned_text = russian_pattern.sub('', text)\n",
        "\n",
        "    return cleaned_text\n",
        "def remove_thai_words(text):\n",
        "    # Remove Thai characters using regular expression\n",
        "    cleaned_text = re.sub(r'[\\u0E00-\\u0E7F]', ' ', text)\n",
        "\n",
        "    return cleaned_text\n",
        "def remove_currency_symbols(text):\n",
        "    # Define pattern to match currency symbols\n",
        "    currency_pattern = re.compile(r'[$€¥₹£¢₽₩₪₴₱₨฿₦₮₲₭₵₿]')  # Matches any currency symbol\n",
        "\n",
        "    # Remove currency symbols from the text\n",
        "    cleaned_text = currency_pattern.sub(' ', text)\n",
        "\n",
        "    return cleaned_text\n",
        "def remove_hyphens(text):\n",
        "    # Define pattern to match hyphens within words\n",
        "    hyphen_pattern = re.compile(r'\\b(\\w+)[-—‑–](\\w+)\\b')  # Matches hyphens within words\n",
        "\n",
        "    # Remove hyphens from the text\n",
        "    cleaned_text = hyphen_pattern.sub(r'\\1 \\2', text)\n",
        "\n",
        "    return cleaned_text\n",
        "def text_processing(text):\n",
        "\n",
        "    # Lowercasing text\n",
        "    text = text.lower()\n",
        "\n",
        "    # Removing URLs from text\n",
        "    text = re.sub(r\"http\\S+\", \"\", text)\n",
        "\n",
        "    # Removing newline character\n",
        "    text = re.sub(r\"\\n\", \"\", text)\n",
        "\n",
        "    # Replacing & character with 'and'\n",
        "    text = re.sub(r\"&\", \"and\", text)\n",
        "\n",
        "    # Removing HTML tags\n",
        "    text = remove_html_tags(text)\n",
        "\n",
        "    # Removing ampersand from the text\n",
        "    text = remove_ampersand(text)\n",
        "\n",
        "    # Performing decontraction on the text\n",
        "    text = decontraction(text)\n",
        "\n",
        "    # Removing the punctuations from the text\n",
        "    text = removepunc(text)\n",
        "\n",
        "    # Removing 64-character hexadecimal string in the text\n",
        "    text = remove_code_from_text(text)\n",
        "\n",
        "    # Removing number in the text\n",
        "    text = remove_number_from_text(text)\n",
        "\n",
        "    # Removing emojis from text\n",
        "    text = remove_emojis_and_symbols_from_text(text)\n",
        "\n",
        "    # Remove •, ‣, and ◦ bullet points\n",
        "    text = remove_bullet_points(text)\n",
        "\n",
        "    # Remove greek words from the text\n",
        "    text = remove_greek_words(text)\n",
        "\n",
        "    # Remove russian words from the text\n",
        "    text = remove_russian_words(text)\n",
        "\n",
        "    # Remove thai words from the text\n",
        "    text = remove_thai_words(text)\n",
        "\n",
        "    # Remove hyphens from hyphenated word\n",
        "    text = remove_hyphens(text)\n",
        "\n",
        "    # Remove currency symbols from the text\n",
        "    text = remove_currency_symbols(text)\n",
        "\n",
        "    # Removing extra space in the text\n",
        "    text = remove_extra_spaces(text)\n",
        "\n",
        "    return text\n",
        "df['cleaned_text'] = df['text'].apply(text_processing)"
      ]
    },
    {
      "cell_type": "code",
      "execution_count": null,
      "metadata": {
        "colab": {
          "base_uri": "https://localhost:8080/",
          "height": 163
        },
        "id": "6ThN77zX8oCV",
        "outputId": "7d5ad767-f791-4756-e81d-40da48cdb10b"
      },
      "outputs": [
        {
          "output_type": "execute_result",
          "data": {
            "text/plain": [
              "'<p>The\\xa0Customer Service Technical Specialist will be based in our Waltham, MA client location. The right candidate will be an integral part of our talented team, supporting our continued growth.\\xa0</p>\\r\\n<p><b>Responsibilities:</b></p>\\r\\n<ul>\\r\\n<li>Identify objective data and enter (\"key what you see\") at a high level of productivity and accuracy</li>\\r\\n<li>Perform data entry task from a paper and/or document image</li>\\r\\n<li>Utilize system functions to perform data look-up and validation</li>\\r\\n<li>Perform entry of data presented in structured forms, correspondence text or presented out of context in character strings</li>\\r\\n<li>Perform document image quality validation, including document type confirmation and verification of image quality and clarity</li>\\r\\n<li>Identify, classify and sort documents by assigning document types within the data entry application</li>\\r\\n<li>Prep documents for scanning to include; separate document by type, separate multiple page documents from single page documents, ensure all paper clips, staples and other fasteners are removed, and sort individual document types by size of the document and make copies as necessary</li>\\r\\n<li>Scan/Image\\xa0to include; scan documents, ensure each document is scanned,\\xa0interact with scanning software to indicate when a batch is complete, perform quality assurance and review images, perform quality assurance of documents that have been flagged by the system, and complete Productivity Sheet to track project progress and provide numbers for billing purposes</li>\\r\\n<li>Handle time-sensitive information</li>\\r\\n<li>Handle confidential information</li>\\r\\n<li>Perform duties and special requests as assigned by team leader and manager</li>\\r\\n<li>Ensure operating and quality standards are met based on service objectives</li>\\r\\n<li>Maintain accuracy of required reports, logs and measurements</li>\\r\\n<li>Ensure the highest levels of customer care</li>\\r\\n<li>Identify and refer sales-cues leading to potential add-on business</li>\\r\\n<li>Ensure adherence to business guidelines, safety &amp; security procedures</li>\\r\\n<li>Support financial results by minimizing site waste and rework</li>\\r\\n<li>Cross-train in other areas as required</li>\\r\\n</ul><p><b>Qualifications:</b></p>\\r\\n<ul>\\r\\n<li>Minimum of\\xa06 months\\xa0customer service related experience required</li>\\r\\n<li>Experience performing data entry, word processing, remittance processing or related functions</li>\\r\\n<li>Proficient Keyboarding skills required - 7,000 keystrokes per hour alphanumeric, 12,000 keystrokes per hour numeric, with high accuracy levels</li>\\r\\n<li>Experience in scanning/imaging required</li>\\r\\n<li>Experience with Fujitsu and/or Kodak scanners required</li>\\r\\n<li>Experience with OracleCapture, MySup and/or Optika applications required</li>\\r\\n<li>Strong computer proficiency and work experience in email and Microsoft Windows environments is required</li>\\r\\n<li>Ability to communicate effectively both in verbal and written form</li>\\r\\n<li>Ability to effectively work individually or in a team environment</li>\\r\\n<li>Ability to handle multiple projects simultaneously</li>\\r\\n<li>Ability to adapt to change in a fast-growing production\\xa0environment</li>\\r\\n<li>Strong organizational and administrative skills</li>\\r\\n<li>Demonstrated ability to show initiative and accept ownership of\\xa0projects</li>\\r\\n<li>Ability to use problem-solving skills in order to resolve client issues</li>\\r\\n<li>Ability to meet employer\\'s attendance policy</li>\\r\\n<li>Ability to lift and/or move items weighing up to 50 pounds or the maximum allowed by current State Law with or without accommodations</li>\\r\\n<li>Ability\\xa0to sit, stand, and/or walk for long periods of time\\xa0with or without accommodations</li>\\r\\n<li>Highschool Diploma or Equivalent required</li>\\r\\n<li>Valid Driver\\'s License and good driving record required</li>\\r\\n</ul>'"
            ],
            "application/vnd.google.colaboratory.intrinsic+json": {
              "type": "string"
            }
          },
          "metadata": {},
          "execution_count": 21
        }
      ],
      "source": [
        "\n",
        "df['text'].loc[30]"
      ]
    },
    {
      "cell_type": "code",
      "execution_count": null,
      "metadata": {
        "colab": {
          "base_uri": "https://localhost:8080/",
          "height": 163
        },
        "id": "xmMQaCPoEeTU",
        "outputId": "fc92c9cd-a46b-41e4-9c2e-1e140c6c223d"
      },
      "outputs": [
        {
          "output_type": "execute_result",
          "data": {
            "text/plain": [
              "' the customer service technical specialist will be based in our waltham ma client location the right candidate will be an integral part of our talented team supporting our continued growth responsibilities identify objective data and enter key what you see at a high level of productivity and accuracy perform data entry task from a paper and or document image utilize system functions to perform data look up and validation perform entry of data presented in structured forms correspondence text or presented out of context in character strings perform document image quality validation including document type confirmation and verification of image quality and clarity identify classify and sort documents by assigning document types within the data entry application prep documents for scanning to include separate document by type separate multiple page documents from single page documents ensure all paper clips staples and other fasteners are removed and sort individual document types by size of the document and make copies as necessary scan image to include scan documents ensure each document is scanned interact with scanning software to indicate when a batch is complete perform quality assurance and review images perform quality assurance of documents that have been flagged by the system and complete productivity sheet to track project progress and provide numbers for billing purposes handle time sensitive information handle confidential information perform duties and special requests as assigned by team leader and manager ensure operating and quality standards are met based on service objectives maintain accuracy of required reports logs and measurements ensure the highest levels of customer care identify and refer sales cues leading to potential add on business ensure adherence to business guidelines safety security procedures support financial results by minimizing site waste and rework cross train in other areas as required qualifications minimum of months customer service related experience required experience performing data entry word processing remittance processing or related functions proficient keyboarding skills required keystrokes per hour alphanumeric keystrokes per hour numeric with high accuracy levels experience in scanning imaging required experience with fujitsu and or kodak scanners required experience with oraclecapture mysup and or optika applications required strong computer proficiency and work experience in email and microsoft windows environments is required ability to communicate effectively both in verbal and written form ability to effectively work individually or in a team environment ability to handle multiple projects simultaneously ability to adapt to change in a fast growing production environment strong organizational and administrative skills demonstrated ability to show initiative and accept ownership of projects ability to use problem solving skills in order to resolve client issues ability to meet employer is attendance policy ability to lift and or move items weighing up to pounds or the maximum allowed by current state law with or without accommodations ability to sit stand and or walk for long periods of time with or without accommodations highschool diploma or equivalent required valid driver is license and good driving record required '"
            ],
            "application/vnd.google.colaboratory.intrinsic+json": {
              "type": "string"
            }
          },
          "metadata": {},
          "execution_count": 22
        }
      ],
      "source": [
        "df['cleaned_text'].loc[30]"
      ]
    },
    {
      "cell_type": "code",
      "execution_count": null,
      "metadata": {
        "colab": {
          "base_uri": "https://localhost:8080/"
        },
        "id": "ma0u94CRKkfX",
        "outputId": "c874506e-836a-46dc-831e-a4695f256b95"
      },
      "outputs": [
        {
          "output_type": "stream",
          "name": "stdout",
          "text": [
            "['f' 't']\n"
          ]
        }
      ],
      "source": [
        "print(df['fraudulent'].unique())"
      ]
    },
    {
      "cell_type": "code",
      "execution_count": null,
      "metadata": {
        "colab": {
          "base_uri": "https://localhost:8080/",
          "height": 458
        },
        "id": "sm86CokaGlfR",
        "outputId": "2a5b8482-cbcc-450f-c8b7-cf1723093c30"
      },
      "outputs": [
        {
          "output_type": "execute_result",
          "data": {
            "text/plain": [
              "0        0\n",
              "1        0\n",
              "2        0\n",
              "3        0\n",
              "4        0\n",
              "        ..\n",
              "17875    0\n",
              "17876    0\n",
              "17877    0\n",
              "17878    0\n",
              "17879    0\n",
              "Name: fraudulent, Length: 17880, dtype: int64"
            ],
            "text/html": [
              "<div>\n",
              "<style scoped>\n",
              "    .dataframe tbody tr th:only-of-type {\n",
              "        vertical-align: middle;\n",
              "    }\n",
              "\n",
              "    .dataframe tbody tr th {\n",
              "        vertical-align: top;\n",
              "    }\n",
              "\n",
              "    .dataframe thead th {\n",
              "        text-align: right;\n",
              "    }\n",
              "</style>\n",
              "<table border=\"1\" class=\"dataframe\">\n",
              "  <thead>\n",
              "    <tr style=\"text-align: right;\">\n",
              "      <th></th>\n",
              "      <th>fraudulent</th>\n",
              "    </tr>\n",
              "  </thead>\n",
              "  <tbody>\n",
              "    <tr>\n",
              "      <th>0</th>\n",
              "      <td>0</td>\n",
              "    </tr>\n",
              "    <tr>\n",
              "      <th>1</th>\n",
              "      <td>0</td>\n",
              "    </tr>\n",
              "    <tr>\n",
              "      <th>2</th>\n",
              "      <td>0</td>\n",
              "    </tr>\n",
              "    <tr>\n",
              "      <th>3</th>\n",
              "      <td>0</td>\n",
              "    </tr>\n",
              "    <tr>\n",
              "      <th>4</th>\n",
              "      <td>0</td>\n",
              "    </tr>\n",
              "    <tr>\n",
              "      <th>...</th>\n",
              "      <td>...</td>\n",
              "    </tr>\n",
              "    <tr>\n",
              "      <th>17875</th>\n",
              "      <td>0</td>\n",
              "    </tr>\n",
              "    <tr>\n",
              "      <th>17876</th>\n",
              "      <td>0</td>\n",
              "    </tr>\n",
              "    <tr>\n",
              "      <th>17877</th>\n",
              "      <td>0</td>\n",
              "    </tr>\n",
              "    <tr>\n",
              "      <th>17878</th>\n",
              "      <td>0</td>\n",
              "    </tr>\n",
              "    <tr>\n",
              "      <th>17879</th>\n",
              "      <td>0</td>\n",
              "    </tr>\n",
              "  </tbody>\n",
              "</table>\n",
              "<p>17880 rows × 1 columns</p>\n",
              "</div><br><label><b>dtype:</b> int64</label>"
            ]
          },
          "metadata": {},
          "execution_count": 24
        }
      ],
      "source": [
        "df['fraudulent']=df['fraudulent'].map({'f':0,'t':1})\n",
        "df['fraudulent']"
      ]
    },
    {
      "cell_type": "code",
      "execution_count": null,
      "metadata": {
        "colab": {
          "base_uri": "https://localhost:8080/"
        },
        "id": "JHUKi8UsK1Om",
        "outputId": "547c0737-2a99-48ba-9a8b-2577f8ea603a"
      },
      "outputs": [
        {
          "output_type": "stream",
          "name": "stdout",
          "text": [
            "[0 1]\n"
          ]
        }
      ],
      "source": [
        "print(df['fraudulent'].unique())"
      ]
    },
    {
      "cell_type": "code",
      "execution_count": null,
      "metadata": {
        "colab": {
          "base_uri": "https://localhost:8080/"
        },
        "id": "n-9d9KL-M0Ce",
        "outputId": "66bcf233-9760-4b3a-f6a4-cb7e326cd8b3"
      },
      "outputs": [
        {
          "output_type": "stream",
          "name": "stdout",
          "text": [
            "(17880, 5000)\n"
          ]
        }
      ],
      "source": [
        "from sklearn.feature_extraction.text import TfidfVectorizer\n",
        "\n",
        "# Initialize the TF-IDF Vectorizer\n",
        "vectorizer = TfidfVectorizer(max_features=5000)  # You can adjust 'max_features' to control the number of features\n",
        "\n",
        "# Fit and transform the 'cleaned_text' column\n",
        "X_tfidf = vectorizer.fit_transform(df['cleaned_text']).toarray()\n",
        "\n",
        "# Output shape to see the transformation result\n",
        "print(X_tfidf.shape)  # (num_samples, num_features)\n"
      ]
    },
    {
      "cell_type": "code",
      "execution_count": null,
      "metadata": {
        "colab": {
          "base_uri": "https://localhost:8080/"
        },
        "id": "9Arcizs6Nd16",
        "outputId": "526bb059-3ec9-4b66-f54d-dafbd16da002"
      },
      "outputs": [
        {
          "output_type": "stream",
          "name": "stdout",
          "text": [
            "Training set: (14304, 5000)\n",
            "Test set: (3576, 5000)\n"
          ]
        }
      ],
      "source": [
        "from sklearn.model_selection import train_test_split\n",
        "\n",
        "# Split the data (80% for training and 20% for testing)\n",
        "X_train, X_test, y_train, y_test = train_test_split(X_tfidf, df['fraudulent'], test_size=0.2, random_state=42)\n",
        "\n",
        "print(\"Training set:\", X_train.shape)\n",
        "print(\"Test set:\", X_test.shape)\n"
      ]
    },
    {
      "cell_type": "code",
      "execution_count": null,
      "metadata": {
        "colab": {
          "base_uri": "https://localhost:8080/"
        },
        "id": "Kc_8qYL6Nx-P",
        "outputId": "56c74162-7136-4113-b5ff-2ab118cd598a"
      },
      "outputs": [
        {
          "output_type": "stream",
          "name": "stdout",
          "text": [
            "KNN Accuracy: 0.9681208053691275\n",
            "KNN Classification Report:\n",
            "              precision    recall  f1-score   support\n",
            "\n",
            "           0       0.98      0.99      0.98      3395\n",
            "           1       0.70      0.65      0.67       181\n",
            "\n",
            "    accuracy                           0.97      3576\n",
            "   macro avg       0.84      0.82      0.83      3576\n",
            "weighted avg       0.97      0.97      0.97      3576\n",
            "\n"
          ]
        }
      ],
      "source": [
        "from sklearn.neighbors import KNeighborsClassifier\n",
        "\n",
        "# Initialize the KNN model\n",
        "knn_model = KNeighborsClassifier(n_neighbors=5)\n",
        "\n",
        "# Train the model with the training data\n",
        "knn_model.fit(X_train, y_train)\n",
        "\n",
        "# Make predictions on the test set\n",
        "y_pred_knn = knn_model.predict(X_test)\n",
        "\n",
        "# Evaluate the model performance\n",
        "print(\"KNN Accuracy:\", accuracy_score(y_test, y_pred_knn))\n",
        "print(\"KNN Classification Report:\")\n",
        "print(classification_report(y_test, y_pred_knn))\n"
      ]
    },
    {
      "cell_type": "code",
      "execution_count": null,
      "metadata": {
        "colab": {
          "base_uri": "https://localhost:8080/"
        },
        "id": "Pa8y49q1N2MV",
        "outputId": "bc15d824-afcc-48d4-8670-668da66bc358"
      },
      "outputs": [
        {
          "output_type": "stream",
          "name": "stdout",
          "text": [
            "Logistic Regression Accuracy: 0.9653243847874721\n",
            "Logistic Regression Classification Report:\n",
            "              precision    recall  f1-score   support\n",
            "\n",
            "           0       0.96      1.00      0.98      3395\n",
            "           1       1.00      0.31      0.48       181\n",
            "\n",
            "    accuracy                           0.97      3576\n",
            "   macro avg       0.98      0.66      0.73      3576\n",
            "weighted avg       0.97      0.97      0.96      3576\n",
            "\n"
          ]
        }
      ],
      "source": [
        "from sklearn.linear_model import LogisticRegression\n",
        "from sklearn.metrics import accuracy_score, classification_report\n",
        "\n",
        "# Initialize the Logistic Regression model\n",
        "log_reg_model = LogisticRegression(random_state=42, max_iter=1000)\n",
        "\n",
        "# Train the model with the training data\n",
        "log_reg_model.fit(X_train, y_train)\n",
        "\n",
        "# Make predictions on the test set\n",
        "y_pred_log_reg = log_reg_model.predict(X_test)\n",
        "\n",
        "# Evaluate the model performance\n",
        "print(\"Logistic Regression Accuracy:\", accuracy_score(y_test, y_pred_log_reg))\n",
        "print(\"Logistic Regression Classification Report:\")\n",
        "print(classification_report(y_test, y_pred_log_reg))\n"
      ]
    },
    {
      "cell_type": "code",
      "execution_count": null,
      "metadata": {
        "colab": {
          "base_uri": "https://localhost:8080/"
        },
        "id": "POM_fsStOKGQ",
        "outputId": "a1273e70-e482-42b6-d741-dcfcb83fa85a"
      },
      "outputs": [
        {
          "output_type": "stream",
          "name": "stdout",
          "text": [
            "SVM Accuracy: 0.9742729306487695\n",
            "SVM Classification Report:\n",
            "              precision    recall  f1-score   support\n",
            "\n",
            "           0       0.97      1.00      0.99      3395\n",
            "           1       0.96      0.51      0.67       181\n",
            "\n",
            "    accuracy                           0.97      3576\n",
            "   macro avg       0.97      0.76      0.83      3576\n",
            "weighted avg       0.97      0.97      0.97      3576\n",
            "\n"
          ]
        }
      ],
      "source": [
        "from sklearn.svm import SVC\n",
        "\n",
        "# Initialize the SVM model\n",
        "svm_model = SVC(kernel='linear', random_state=42)\n",
        "\n",
        "# Train the model with the training data\n",
        "svm_model.fit(X_train, y_train)\n",
        "\n",
        "# Make predictions on the test set\n",
        "y_pred_svm = svm_model.predict(X_test)\n",
        "\n",
        "# Evaluate the model performance\n",
        "from sklearn.metrics import accuracy_score, classification_report\n",
        "print(\"SVM Accuracy:\", accuracy_score(y_test, y_pred_svm))\n",
        "print(\"SVM Classification Report:\")\n",
        "print(classification_report(y_test, y_pred_svm))\n"
      ]
    },
    {
      "cell_type": "code",
      "source": [
        "from sklearn.svm import SVC\n",
        "\n",
        "# Initialize the SVM model\n",
        "svm_model_rbf = SVC(kernel='rbf', random_state=42)\n",
        "\n",
        "# Train the model with the training data\n",
        "svm_model_rbf.fit(X_train, y_train)\n",
        "\n",
        "# Make predictions on the test set\n",
        "y_pred_svm_rbf = svm_model_rbf.predict(X_test)\n",
        "\n",
        "# Evaluate the model performance\n",
        "from sklearn.metrics import accuracy_score, classification_report\n",
        "print(\"SVM Accuracy:\", accuracy_score(y_test, y_pred_svm_rbf))\n",
        "print(\"SVM Classification Report:\")\n",
        "print(classification_report(y_test, y_pred_svm_rbf))"
      ],
      "metadata": {
        "colab": {
          "base_uri": "https://localhost:8080/"
        },
        "id": "8H6tBLNdTVHv",
        "outputId": "e7612c93-55bc-411f-cde8-a20cbd646ac3"
      },
      "execution_count": null,
      "outputs": [
        {
          "output_type": "stream",
          "name": "stdout",
          "text": [
            "SVM Accuracy: 0.977069351230425\n",
            "SVM Classification Report:\n",
            "              precision    recall  f1-score   support\n",
            "\n",
            "           0       0.98      1.00      0.99      3395\n",
            "           1       1.00      0.55      0.71       181\n",
            "\n",
            "    accuracy                           0.98      3576\n",
            "   macro avg       0.99      0.77      0.85      3576\n",
            "weighted avg       0.98      0.98      0.97      3576\n",
            "\n"
          ]
        }
      ]
    },
    {
      "cell_type": "code",
      "execution_count": null,
      "metadata": {
        "colab": {
          "base_uri": "https://localhost:8080/",
          "height": 211
        },
        "id": "8IydZzQYnQ9K",
        "outputId": "9a26b1e2-9193-4952-f120-1785491fff72",
        "cellView": "code"
      },
      "outputs": [
        {
          "output_type": "error",
          "ename": "NameError",
          "evalue": "name 'X_train' is not defined",
          "traceback": [
            "\u001b[0;31m---------------------------------------------------------------------------\u001b[0m",
            "\u001b[0;31mNameError\u001b[0m                                 Traceback (most recent call last)",
            "\u001b[0;32m<ipython-input-1-27e0ebfbc2cc>\u001b[0m in \u001b[0;36m<cell line: 0>\u001b[0;34m()\u001b[0m\n\u001b[1;32m     16\u001b[0m \u001b[0;31m# Grid search\u001b[0m\u001b[0;34m\u001b[0m\u001b[0;34m\u001b[0m\u001b[0m\n\u001b[1;32m     17\u001b[0m \u001b[0mgrid_search\u001b[0m \u001b[0;34m=\u001b[0m \u001b[0mGridSearchCV\u001b[0m\u001b[0;34m(\u001b[0m\u001b[0msvm\u001b[0m\u001b[0;34m,\u001b[0m \u001b[0mparam_grid\u001b[0m\u001b[0;34m,\u001b[0m \u001b[0mcv\u001b[0m\u001b[0;34m=\u001b[0m\u001b[0;36m5\u001b[0m\u001b[0;34m,\u001b[0m \u001b[0mscoring\u001b[0m\u001b[0;34m=\u001b[0m\u001b[0;34m'f1'\u001b[0m\u001b[0;34m,\u001b[0m \u001b[0mverbose\u001b[0m\u001b[0;34m=\u001b[0m\u001b[0;36m2\u001b[0m\u001b[0;34m)\u001b[0m\u001b[0;34m\u001b[0m\u001b[0;34m\u001b[0m\u001b[0m\n\u001b[0;32m---> 18\u001b[0;31m \u001b[0mgrid_search\u001b[0m\u001b[0;34m.\u001b[0m\u001b[0mfit\u001b[0m\u001b[0;34m(\u001b[0m\u001b[0mX_train\u001b[0m\u001b[0;34m,\u001b[0m \u001b[0my_train\u001b[0m\u001b[0;34m)\u001b[0m\u001b[0;34m\u001b[0m\u001b[0;34m\u001b[0m\u001b[0m\n\u001b[0m\u001b[1;32m     19\u001b[0m \u001b[0;34m\u001b[0m\u001b[0m\n\u001b[1;32m     20\u001b[0m \u001b[0;31m# Best model\u001b[0m\u001b[0;34m\u001b[0m\u001b[0;34m\u001b[0m\u001b[0m\n",
            "\u001b[0;31mNameError\u001b[0m: name 'X_train' is not defined"
          ]
        }
      ],
      "source": [
        "# @title Default title text\n",
        "from sklearn.model_selection import GridSearchCV\n",
        "from sklearn.svm import SVC\n",
        "\n",
        "# Example: Grid of parameters\n",
        "param_grid = {\n",
        "    'C': [0.1, 1, 10],\n",
        "    'kernel': ['linear', 'rbf'],\n",
        "    'gamma': ['scale', 'auto'],\n",
        "    'class_weight': [None, 'balanced']\n",
        "}\n",
        "\n",
        "# Initialize base model\n",
        "svm = SVC(probability=True)\n",
        "\n",
        "# Grid search\n",
        "grid_search = GridSearchCV(svm, param_grid, cv=5, scoring='f1', verbose=2)\n",
        "grid_search.fit(X_train, y_train)\n",
        "\n",
        "# Best model\n",
        "best_model = grid_search.best_estimator_\n",
        "print(\"Best Parameters:\", grid_search.best_params_)\n"
      ]
    },
    {
      "cell_type": "code",
      "source": [
        "param_grid = {\n",
        "    'C': [0.01, 0.1, 1, 10],\n",
        "    'penalty': ['l2'],\n",
        "    'solver': ['lbfgs'],\n",
        "    'class_weight': ['balanced']\n",
        "}\n",
        "\n",
        "lr = LogisticRegression(max_iter=1000)\n",
        "grid = GridSearchCV(lr, param_grid, cv=5, scoring='f1', n_jobs=-1)\n",
        "grid.fit(X_train, y_train)\n",
        "y_pred_best_log=grid.predict(X_test)\n",
        "best_model = grid.best_estimator_\n",
        "print(\"Best Parameters:\", grid.best_params_)\n",
        "print(\"Fine tuned Logistic Regression:\", accuracy_score(y_test, y_pred_best_log))\n",
        "print(\"Fine tuned Logistic Regression Classification Report:\")\n",
        "print(classification_report(y_test, y_pred_best_log))\n"
      ],
      "metadata": {
        "colab": {
          "base_uri": "https://localhost:8080/"
        },
        "id": "YsmMKwNwj__F",
        "outputId": "5b3e7d34-6ec1-4177-fb3c-4aec590d8196"
      },
      "execution_count": null,
      "outputs": [
        {
          "output_type": "stream",
          "name": "stdout",
          "text": [
            "Best Parameters: {'C': 10, 'class_weight': 'balanced', 'penalty': 'l2', 'solver': 'lbfgs'}\n",
            "Fine tuned Logistic Regression: 0.9664429530201343\n",
            "Fine tuned Logistic Regression Classification Report:\n",
            "              precision    recall  f1-score   support\n",
            "\n",
            "           0       0.99      0.98      0.98      3395\n",
            "           1       0.64      0.75      0.69       181\n",
            "\n",
            "    accuracy                           0.97      3576\n",
            "   macro avg       0.82      0.86      0.84      3576\n",
            "weighted avg       0.97      0.97      0.97      3576\n",
            "\n"
          ]
        }
      ]
    },
    {
      "cell_type": "code",
      "source": [
        "models = {\n",
        "    'Logistic Regression': LogisticRegression(random_state=42, max_iter=1000),\n",
        "    'KNN': KNeighborsClassifier(n_neighbors=5),  # best k from GridSearch\n",
        "    'SVM': SVC(kernel='linear', random_state=42),\n",
        "    'Fine tuned Logistic Regression': GridSearchCV(lr, param_grid, cv=5, scoring='f1', n_jobs=-1)\n",
        "\n",
        "}"
      ],
      "metadata": {
        "id": "sfJRJKfYgupr"
      },
      "execution_count": null,
      "outputs": []
    },
    {
      "cell_type": "code",
      "source": [
        "accuracies = {}\n",
        "for name, model in models.items():\n",
        "    model.fit(X_train, y_train)\n",
        "    y_pred = model.predict(X_test)\n",
        "    accuracies[name] = accuracy_score(y_test, y_pred)"
      ],
      "metadata": {
        "id": "SW63zoXphepV"
      },
      "execution_count": null,
      "outputs": []
    },
    {
      "cell_type": "code",
      "source": [
        "import matplotlib.pyplot as plt\n",
        "\n",
        "# Plotting\n",
        "plt.figure(figsize=(7,4))\n",
        "plt.bar(accuracies.keys(), accuracies.values(), color='skyblue')\n",
        "plt.title(\"Model Accuracy Comparison\")\n",
        "plt.ylabel(\"Accuracy\")\n",
        "plt.ylim(0, 1)\n",
        "plt.xticks(rotation=45)\n",
        "plt.grid(axis='y', linestyle='--', alpha=0.5)\n",
        "plt.tight_layout()\n",
        "plt.show()\n"
      ],
      "metadata": {
        "colab": {
          "base_uri": "https://localhost:8080/",
          "height": 407
        },
        "id": "KxwCVozOgZ8W",
        "outputId": "5f828567-6da9-42f5-c60c-7466cd2c5e2b"
      },
      "execution_count": null,
      "outputs": [
        {
          "output_type": "display_data",
          "data": {
            "text/plain": [
              "<Figure size 700x400 with 1 Axes>"
            ],
            "image/png": "[encoded data removed]"
          },
          "metadata": {}
        }
      ]
    },
    {
      "cell_type": "code",
      "execution_count": null,
      "metadata": {
        "colab": {
          "base_uri": "https://localhost:8080/",
          "height": 388
        },
        "id": "8ljTyJTfOPSR",
        "outputId": "c7df5a0a-e8fa-45eb-b035-b55c34b42cbe"
      },
      "outputs": [
        {
          "name": "stdout",
          "output_type": "stream",
          "text": [
            "Fitting 5 folds for each of 60 candidates, totalling 300 fits\n"
          ]
        },
        {
          "ename": "KeyboardInterrupt",
          "evalue": "",
          "output_type": "error",
          "traceback": [
            "\u001b[0;31m---------------------------------------------------------------------------\u001b[0m",
            "\u001b[0;31mKeyboardInterrupt\u001b[0m                         Traceback (most recent call last)",
            "\u001b[0;32m<ipython-input-211-171d3d93fc06>\u001b[0m in \u001b[0;36m<cell line: 0>\u001b[0;34m()\u001b[0m\n\u001b[1;32m     18\u001b[0m \u001b[0;34m\u001b[0m\u001b[0m\n\u001b[1;32m     19\u001b[0m \u001b[0;31m# Fit the grid search to the training data\u001b[0m\u001b[0;34m\u001b[0m\u001b[0;34m\u001b[0m\u001b[0m\n\u001b[0;32m---> 20\u001b[0;31m \u001b[0mgrid_search_knn\u001b[0m\u001b[0;34m.\u001b[0m\u001b[0mfit\u001b[0m\u001b[0;34m(\u001b[0m\u001b[0mX_train\u001b[0m\u001b[0;34m,\u001b[0m \u001b[0my_train\u001b[0m\u001b[0;34m)\u001b[0m\u001b[0;34m\u001b[0m\u001b[0;34m\u001b[0m\u001b[0m\n\u001b[0m\u001b[1;32m     21\u001b[0m \u001b[0;34m\u001b[0m\u001b[0m\n\u001b[1;32m     22\u001b[0m \u001b[0;31m# Output the best parameters\u001b[0m\u001b[0;34m\u001b[0m\u001b[0;34m\u001b[0m\u001b[0m\n",
            "\u001b[0;32m/usr/local/lib/python3.11/dist-packages/sklearn/base.py\u001b[0m in \u001b[0;36mwrapper\u001b[0;34m(estimator, *args, **kwargs)\u001b[0m\n\u001b[1;32m   1387\u001b[0m                 )\n\u001b[1;32m   1388\u001b[0m             ):\n\u001b[0;32m-> 1389\u001b[0;31m                 \u001b[0;32mreturn\u001b[0m \u001b[0mfit_method\u001b[0m\u001b[0;34m(\u001b[0m\u001b[0mestimator\u001b[0m\u001b[0;34m,\u001b[0m \u001b[0;34m*\u001b[0m\u001b[0margs\u001b[0m\u001b[0;34m,\u001b[0m \u001b[0;34m**\u001b[0m\u001b[0mkwargs\u001b[0m\u001b[0;34m)\u001b[0m\u001b[0;34m\u001b[0m\u001b[0;34m\u001b[0m\u001b[0m\n\u001b[0m\u001b[1;32m   1390\u001b[0m \u001b[0;34m\u001b[0m\u001b[0m\n\u001b[1;32m   1391\u001b[0m         \u001b[0;32mreturn\u001b[0m \u001b[0mwrapper\u001b[0m\u001b[0;34m\u001b[0m\u001b[0;34m\u001b[0m\u001b[0m\n",
            "\u001b[0;32m/usr/local/lib/python3.11/dist-packages/sklearn/model_selection/_search.py\u001b[0m in \u001b[0;36mfit\u001b[0;34m(self, X, y, **params)\u001b[0m\n\u001b[1;32m   1022\u001b[0m                 \u001b[0;32mreturn\u001b[0m \u001b[0mresults\u001b[0m\u001b[0;34m\u001b[0m\u001b[0;34m\u001b[0m\u001b[0m\n\u001b[1;32m   1023\u001b[0m \u001b[0;34m\u001b[0m\u001b[0m\n\u001b[0;32m-> 1024\u001b[0;31m             \u001b[0mself\u001b[0m\u001b[0;34m.\u001b[0m\u001b[0m_run_search\u001b[0m\u001b[0;34m(\u001b[0m\u001b[0mevaluate_candidates\u001b[0m\u001b[0;34m)\u001b[0m\u001b[0;34m\u001b[0m\u001b[0;34m\u001b[0m\u001b[0m\n\u001b[0m\u001b[1;32m   1025\u001b[0m \u001b[0;34m\u001b[0m\u001b[0m\n\u001b[1;32m   1026\u001b[0m             \u001b[0;31m# multimetric is determined here because in the case of a callable\u001b[0m\u001b[0;34m\u001b[0m\u001b[0;34m\u001b[0m\u001b[0m\n",
            "\u001b[0;32m/usr/local/lib/python3.11/dist-packages/sklearn/model_selection/_search.py\u001b[0m in \u001b[0;36m_run_search\u001b[0;34m(self, evaluate_candidates)\u001b[0m\n\u001b[1;32m   1569\u001b[0m     \u001b[0;32mdef\u001b[0m \u001b[0m_run_search\u001b[0m\u001b[0;34m(\u001b[0m\u001b[0mself\u001b[0m\u001b[0;34m,\u001b[0m \u001b[0mevaluate_candidates\u001b[0m\u001b[0;34m)\u001b[0m\u001b[0;34m:\u001b[0m\u001b[0;34m\u001b[0m\u001b[0;34m\u001b[0m\u001b[0m\n\u001b[1;32m   1570\u001b[0m         \u001b[0;34m\"\"\"Search all candidates in param_grid\"\"\"\u001b[0m\u001b[0;34m\u001b[0m\u001b[0;34m\u001b[0m\u001b[0m\n\u001b[0;32m-> 1571\u001b[0;31m         \u001b[0mevaluate_candidates\u001b[0m\u001b[0;34m(\u001b[0m\u001b[0mParameterGrid\u001b[0m\u001b[0;34m(\u001b[0m\u001b[0mself\u001b[0m\u001b[0;34m.\u001b[0m\u001b[0mparam_grid\u001b[0m\u001b[0;34m)\u001b[0m\u001b[0;34m)\u001b[0m\u001b[0;34m\u001b[0m\u001b[0;34m\u001b[0m\u001b[0m\n\u001b[0m\u001b[1;32m   1572\u001b[0m \u001b[0;34m\u001b[0m\u001b[0m\n\u001b[1;32m   1573\u001b[0m \u001b[0;34m\u001b[0m\u001b[0m\n",
            "\u001b[0;32m/usr/local/lib/python3.11/dist-packages/sklearn/model_selection/_search.py\u001b[0m in \u001b[0;36mevaluate_candidates\u001b[0;34m(candidate_params, cv, more_results)\u001b[0m\n\u001b[1;32m    968\u001b[0m                     )\n\u001b[1;32m    969\u001b[0m \u001b[0;34m\u001b[0m\u001b[0m\n\u001b[0;32m--> 970\u001b[0;31m                 out = parallel(\n\u001b[0m\u001b[1;32m    971\u001b[0m                     delayed(_fit_and_score)(\n\u001b[1;32m    972\u001b[0m                         \u001b[0mclone\u001b[0m\u001b[0;34m(\u001b[0m\u001b[0mbase_estimator\u001b[0m\u001b[0;34m)\u001b[0m\u001b[0;34m,\u001b[0m\u001b[0;34m\u001b[0m\u001b[0;34m\u001b[0m\u001b[0m\n",
            "\u001b[0;32m/usr/local/lib/python3.11/dist-packages/sklearn/utils/parallel.py\u001b[0m in \u001b[0;36m__call__\u001b[0;34m(self, iterable)\u001b[0m\n\u001b[1;32m     75\u001b[0m             \u001b[0;32mfor\u001b[0m \u001b[0mdelayed_func\u001b[0m\u001b[0;34m,\u001b[0m \u001b[0margs\u001b[0m\u001b[0;34m,\u001b[0m \u001b[0mkwargs\u001b[0m \u001b[0;32min\u001b[0m \u001b[0miterable\u001b[0m\u001b[0;34m\u001b[0m\u001b[0;34m\u001b[0m\u001b[0m\n\u001b[1;32m     76\u001b[0m         )\n\u001b[0;32m---> 77\u001b[0;31m         \u001b[0;32mreturn\u001b[0m \u001b[0msuper\u001b[0m\u001b[0;34m(\u001b[0m\u001b[0;34m)\u001b[0m\u001b[0;34m.\u001b[0m\u001b[0m__call__\u001b[0m\u001b[0;34m(\u001b[0m\u001b[0miterable_with_config\u001b[0m\u001b[0;34m)\u001b[0m\u001b[0;34m\u001b[0m\u001b[0;34m\u001b[0m\u001b[0m\n\u001b[0m\u001b[1;32m     78\u001b[0m \u001b[0;34m\u001b[0m\u001b[0m\n\u001b[1;32m     79\u001b[0m \u001b[0;34m\u001b[0m\u001b[0m\n",
            "\u001b[0;32m/usr/local/lib/python3.11/dist-packages/joblib/parallel.py\u001b[0m in \u001b[0;36m__call__\u001b[0;34m(self, iterable)\u001b[0m\n\u001b[1;32m   2005\u001b[0m         \u001b[0mnext\u001b[0m\u001b[0;34m(\u001b[0m\u001b[0moutput\u001b[0m\u001b[0;34m)\u001b[0m\u001b[0;34m\u001b[0m\u001b[0;34m\u001b[0m\u001b[0m\n\u001b[1;32m   2006\u001b[0m \u001b[0;34m\u001b[0m\u001b[0m\n\u001b[0;32m-> 2007\u001b[0;31m         \u001b[0;32mreturn\u001b[0m \u001b[0moutput\u001b[0m \u001b[0;32mif\u001b[0m \u001b[0mself\u001b[0m\u001b[0;34m.\u001b[0m\u001b[0mreturn_generator\u001b[0m \u001b[0;32melse\u001b[0m \u001b[0mlist\u001b[0m\u001b[0;34m(\u001b[0m\u001b[0moutput\u001b[0m\u001b[0;34m)\u001b[0m\u001b[0;34m\u001b[0m\u001b[0;34m\u001b[0m\u001b[0m\n\u001b[0m\u001b[1;32m   2008\u001b[0m \u001b[0;34m\u001b[0m\u001b[0m\n\u001b[1;32m   2009\u001b[0m     \u001b[0;32mdef\u001b[0m \u001b[0m__repr__\u001b[0m\u001b[0;34m(\u001b[0m\u001b[0mself\u001b[0m\u001b[0;34m)\u001b[0m\u001b[0;34m:\u001b[0m\u001b[0;34m\u001b[0m\u001b[0;34m\u001b[0m\u001b[0m\n",
            "\u001b[0;32m/usr/local/lib/python3.11/dist-packages/joblib/parallel.py\u001b[0m in \u001b[0;36m_get_outputs\u001b[0;34m(self, iterator, pre_dispatch)\u001b[0m\n\u001b[1;32m   1648\u001b[0m \u001b[0;34m\u001b[0m\u001b[0m\n\u001b[1;32m   1649\u001b[0m             \u001b[0;32mwith\u001b[0m \u001b[0mself\u001b[0m\u001b[0;34m.\u001b[0m\u001b[0m_backend\u001b[0m\u001b[0;34m.\u001b[0m\u001b[0mretrieval_context\u001b[0m\u001b[0;34m(\u001b[0m\u001b[0;34m)\u001b[0m\u001b[0;34m:\u001b[0m\u001b[0;34m\u001b[0m\u001b[0;34m\u001b[0m\u001b[0m\n\u001b[0;32m-> 1650\u001b[0;31m                 \u001b[0;32myield\u001b[0m \u001b[0;32mfrom\u001b[0m \u001b[0mself\u001b[0m\u001b[0;34m.\u001b[0m\u001b[0m_retrieve\u001b[0m\u001b[0;34m(\u001b[0m\u001b[0;34m)\u001b[0m\u001b[0;34m\u001b[0m\u001b[0;34m\u001b[0m\u001b[0m\n\u001b[0m\u001b[1;32m   1651\u001b[0m \u001b[0;34m\u001b[0m\u001b[0m\n\u001b[1;32m   1652\u001b[0m         \u001b[0;32mexcept\u001b[0m \u001b[0mGeneratorExit\u001b[0m\u001b[0;34m:\u001b[0m\u001b[0;34m\u001b[0m\u001b[0;34m\u001b[0m\u001b[0m\n",
            "\u001b[0;32m/usr/local/lib/python3.11/dist-packages/joblib/parallel.py\u001b[0m in \u001b[0;36m_retrieve\u001b[0;34m(self)\u001b[0m\n\u001b[1;32m   1760\u001b[0m                 (self._jobs[0].get_status(\n\u001b[1;32m   1761\u001b[0m                     timeout=self.timeout) == TASK_PENDING)):\n\u001b[0;32m-> 1762\u001b[0;31m                 \u001b[0mtime\u001b[0m\u001b[0;34m.\u001b[0m\u001b[0msleep\u001b[0m\u001b[0;34m(\u001b[0m\u001b[0;36m0.01\u001b[0m\u001b[0;34m)\u001b[0m\u001b[0;34m\u001b[0m\u001b[0;34m\u001b[0m\u001b[0m\n\u001b[0m\u001b[1;32m   1763\u001b[0m                 \u001b[0;32mcontinue\u001b[0m\u001b[0;34m\u001b[0m\u001b[0;34m\u001b[0m\u001b[0m\n\u001b[1;32m   1764\u001b[0m \u001b[0;34m\u001b[0m\u001b[0m\n",
            "\u001b[0;31mKeyboardInterrupt\u001b[0m: "
          ]
        }
      ],
      "source": [
        "from sklearn.neighbors import KNeighborsClassifier\n",
        "from sklearn.model_selection import GridSearchCV\n",
        "from sklearn.metrics import accuracy_score, classification_report\n",
        "\n",
        "# Hyperparameter grid for KNN\n",
        "param_grid = {\n",
        "    'n_neighbors': [3, 5, 7, 9, 11],  # Number of neighbors to consider\n",
        "    'weights': ['uniform', 'distance'],  # Weighting of neighbors\n",
        "    'metric': ['euclidean', 'manhattan'],  # Distance metrics\n",
        "    'leaf_size': [10, 20, 30],  # Leaf size for KNN algorithm\n",
        "}\n",
        "\n",
        "# Initialize the KNN model\n",
        "knn_model = KNeighborsClassifier()\n",
        "\n",
        "# Initialize GridSearchCV with cross-validation\n",
        "grid_search_knn = GridSearchCV(knn_model, param_grid, cv=5, n_jobs=-1, verbose=1)\n",
        "\n",
        "# Fit the grid search to the training data\n",
        "grid_search_knn.fit(X_train, y_train)\n",
        "\n",
        "# Output the best parameters\n",
        "print(\"Best KNN Parameters:\", grid_search_knn.best_params_)\n",
        "\n",
        "# Train the model with the best parameters\n",
        "best_knn_model = grid_search_knn.best_estimator_\n",
        "\n",
        "# Make predictions on the test set\n",
        "y_pred_best_knn = best_knn_model.predict(X_test)\n",
        "\n",
        "# Evaluate the model performance\n",
        "print(\"Best KNN Accuracy:\", accuracy_score(y_test, y_pred_best_knn))\n",
        "print(\"Best KNN Classification Report:\")\n",
        "print(classification_report(y_test, y_pred_best_knn))\n"
      ]
    },
    {
      "cell_type": "code",
      "execution_count": null,
      "metadata": {
        "colab": {
          "base_uri": "https://localhost:8080/"
        },
        "id": "leLUECVtPbfb",
        "outputId": "18d7d56e-7855-44db-afb7-d21823d01903"
      },
      "outputs": [
        {
          "name": "stdout",
          "output_type": "stream",
          "text": [
            "fake\n"
          ]
        }
      ],
      "source": [
        "new_message = [\"Are you looking to earn $300–$500 daily from the comfort of your home? We are hiring people immediately for easy data entry work. No experience required!\"]\n",
        "\n",
        "# Just call the existing function\n",
        "cleaned_message = [text_processing(msg) for msg in new_message]\n",
        "new_message_vectorized = vectorizer.transform(cleaned_message)\n",
        "prediction = knn_model.predict(new_message_vectorized)\n",
        "\n",
        "print(\"fake\" if prediction[0] == 1 else \"Real\")"
      ]
    },
    {
      "cell_type": "code",
      "execution_count": null,
      "metadata": {
        "colab": {
          "base_uri": "https://localhost:8080/"
        },
        "id": "42VU_DswGss_",
        "outputId": "d57efb4c-3f24-47f5-971c-c72729fda6df"
      },
      "outputs": [
        {
          "data": {
            "text/plain": [
              "['vectorizer.pkl']"
            ]
          },
          "execution_count": 34,
          "metadata": {},
          "output_type": "execute_result"
        }
      ],
      "source": [
        "import joblib\n",
        "joblib.dump(knn_model, \"Knn_model.pkl\")\n",
        "joblib.dump(svm_model, \"Svm_model.pkl\")\n",
        "joblib.dump(vectorizer, \"vectorizer.pkl\")"
      ]
    },
    {
      "cell_type": "code",
      "source": [
        "import joblib\n",
        "joblib.dump(svm_model, \"Svm_model_new.pkl\")"
      ],
      "metadata": {
        "colab": {
          "base_uri": "https://localhost:8080/"
        },
        "id": "3p7U6-YiJ2Oe",
        "outputId": "bce9d1d8-12aa-4d96-b7e6-db1d6128123c"
      },
      "execution_count": null,
      "outputs": [
        {
          "output_type": "execute_result",
          "data": {
            "text/plain": [
              "['Svm_model_new.pkl']"
            ]
          },
          "metadata": {},
          "execution_count": 29
        }
      ]
    },
    {
      "cell_type": "code",
      "source": [
        "import joblib\n",
        "joblib.dump(best_model, \"best_model.pkl\")"
      ],
      "metadata": {
        "colab": {
          "base_uri": "https://localhost:8080/"
        },
        "id": "ed5jRGodLwR_",
        "outputId": "d58d0b09-0abd-4241-edee-5306ddd11bcb"
      },
      "execution_count": null,
      "outputs": [
        {
          "output_type": "execute_result",
          "data": {
            "text/plain": [
              "['best_model.pkl']"
            ]
          },
          "metadata": {},
          "execution_count": 109
        }
      ]
    },
    {
      "cell_type": "code",
      "source": [
        "import joblib\n",
        "joblib.dump(vectorizer, \"vectorizer.pkl\")"
      ],
      "metadata": {
        "id": "CcI2q7lqiK3X",
        "outputId": "f6f96418-93e6-401c-91d2-43d0fc3a4447",
        "colab": {
          "base_uri": "https://localhost:8080/",
          "height": 158
        }
      },
      "execution_count": null,
      "outputs": [
        {
          "output_type": "error",
          "ename": "NameError",
          "evalue": "name 'vectorizer' is not defined",
          "traceback": [
            "\u001b[0;31m---------------------------------------------------------------------------\u001b[0m",
            "\u001b[0;31mNameError\u001b[0m                                 Traceback (most recent call last)",
            "\u001b[0;32m<ipython-input-1-b9e7093cbb37>\u001b[0m in \u001b[0;36m<cell line: 0>\u001b[0;34m()\u001b[0m\n\u001b[1;32m      1\u001b[0m \u001b[0;32mimport\u001b[0m \u001b[0mjoblib\u001b[0m\u001b[0;34m\u001b[0m\u001b[0;34m\u001b[0m\u001b[0m\n\u001b[0;32m----> 2\u001b[0;31m \u001b[0mjoblib\u001b[0m\u001b[0;34m.\u001b[0m\u001b[0mdump\u001b[0m\u001b[0;34m(\u001b[0m\u001b[0mvectorizer\u001b[0m\u001b[0;34m,\u001b[0m \u001b[0;34m\"vectorizer.pkl\"\u001b[0m\u001b[0;34m)\u001b[0m\u001b[0;34m\u001b[0m\u001b[0;34m\u001b[0m\u001b[0m\n\u001b[0m",
            "\u001b[0;31mNameError\u001b[0m: name 'vectorizer' is not defined"
          ]
        }
      ]
    },
    {
      "cell_type": "code",
      "source": [
        "from google.colab import files\n",
        "files.download('best_model.pkl')"
      ],
      "metadata": {
        "colab": {
          "base_uri": "https://localhost:8080/",
          "height": 17
        },
        "id": "PT-bVKZKKKPU",
        "outputId": "98a4c0fb-287c-4d34-f583-6235a6278174"
      },
      "execution_count": null,
      "outputs": [
        {
          "output_type": "display_data",
          "data": {
            "text/plain": [
              "<IPython.core.display.Javascript object>"
            ],
            "application/javascript": [
              "\n",
              "    async function download(id, filename, size) {\n",
              "      if (!google.colab.kernel.accessAllowed) {\n",
              "        return;\n",
              "      }\n",
              "      const div = document.createElement('div');\n",
              "      const label = document.createElement('label');\n",
              "      label.textContent = `Downloading \"${filename}\": `;\n",
              "      div.appendChild(label);\n",
              "      const progress = document.createElement('progress');\n",
              "      progress.max = size;\n",
              "      div.appendChild(progress);\n",
              "      document.body.appendChild(div);\n",
              "\n",
              "      const buffers = [];\n",
              "      let downloaded = 0;\n",
              "\n",
              "      const channel = await google.colab.kernel.comms.open(id);\n",
              "      // Send a message to notify the kernel that we're ready.\n",
              "      channel.send({})\n",
              "\n",
              "      for await (const message of channel.messages) {\n",
              "        // Send a message to notify the kernel that we're ready.\n",
              "        channel.send({})\n",
              "        if (message.buffers) {\n",
              "          for (const buffer of message.buffers) {\n",
              "            buffers.push(buffer);\n",
              "            downloaded += buffer.byteLength;\n",
              "            progress.value = downloaded;\n",
              "          }\n",
              "        }\n",
              "      }\n",
              "      const blob = new Blob(buffers, {type: 'application/binary'});\n",
              "      const a = document.createElement('a');\n",
              "      a.href = window.URL.createObjectURL(blob);\n",
              "      a.download = filename;\n",
              "      div.appendChild(a);\n",
              "      a.click();\n",
              "      div.remove();\n",
              "    }\n",
              "  "
            ]
          },
          "metadata": {}
        },
        {
          "output_type": "display_data",
          "data": {
            "text/plain": [
              "<IPython.core.display.Javascript object>"
            ],
            "application/javascript": [
              "download(\"download_0a4b0a0e-6192-4346-8fdb-0b9fe2e394b4\", \"best_model.pkl\", 40863)"
            ]
          },
          "metadata": {}
        }
      ]
    },
    {
      "cell_type": "code",
      "execution_count": null,
      "metadata": {
        "colab": {
          "base_uri": "https://localhost:8080/",
          "height": 17
        },
        "id": "wrIauXqTG7Kv",
        "outputId": "563988cd-e505-478b-e195-4c75c538ce65"
      },
      "outputs": [
        {
          "data": {
            "application/javascript": [
              "\n",
              "    async function download(id, filename, size) {\n",
              "      if (!google.colab.kernel.accessAllowed) {\n",
              "        return;\n",
              "      }\n",
              "      const div = document.createElement('div');\n",
              "      const label = document.createElement('label');\n",
              "      label.textContent = `Downloading \"${filename}\": `;\n",
              "      div.appendChild(label);\n",
              "      const progress = document.createElement('progress');\n",
              "      progress.max = size;\n",
              "      div.appendChild(progress);\n",
              "      document.body.appendChild(div);\n",
              "\n",
              "      const buffers = [];\n",
              "      let downloaded = 0;\n",
              "\n",
              "      const channel = await google.colab.kernel.comms.open(id);\n",
              "      // Send a message to notify the kernel that we're ready.\n",
              "      channel.send({})\n",
              "\n",
              "      for await (const message of channel.messages) {\n",
              "        // Send a message to notify the kernel that we're ready.\n",
              "        channel.send({})\n",
              "        if (message.buffers) {\n",
              "          for (const buffer of message.buffers) {\n",
              "            buffers.push(buffer);\n",
              "            downloaded += buffer.byteLength;\n",
              "            progress.value = downloaded;\n",
              "          }\n",
              "        }\n",
              "      }\n",
              "      const blob = new Blob(buffers, {type: 'application/binary'});\n",
              "      const a = document.createElement('a');\n",
              "      a.href = window.URL.createObjectURL(blob);\n",
              "      a.download = filename;\n",
              "      div.appendChild(a);\n",
              "      a.click();\n",
              "      div.remove();\n",
              "    }\n",
              "  "
            ],
            "text/plain": [
              "<IPython.core.display.Javascript object>"
            ]
          },
          "metadata": {},
          "output_type": "display_data"
        },
        {
          "data": {
            "application/javascript": [
              "download(\"download_450ee3c7-9a48-4c08-bf05-e977c1b33860\", \"Knn_model.pkl\", 572275236)"
            ],
            "text/plain": [
              "<IPython.core.display.Javascript object>"
            ]
          },
          "metadata": {},
          "output_type": "display_data"
        },
        {
          "data": {
            "application/javascript": [
              "\n",
              "    async function download(id, filename, size) {\n",
              "      if (!google.colab.kernel.accessAllowed) {\n",
              "        return;\n",
              "      }\n",
              "      const div = document.createElement('div');\n",
              "      const label = document.createElement('label');\n",
              "      label.textContent = `Downloading \"${filename}\": `;\n",
              "      div.appendChild(label);\n",
              "      const progress = document.createElement('progress');\n",
              "      progress.max = size;\n",
              "      div.appendChild(progress);\n",
              "      document.body.appendChild(div);\n",
              "\n",
              "      const buffers = [];\n",
              "      let downloaded = 0;\n",
              "\n",
              "      const channel = await google.colab.kernel.comms.open(id);\n",
              "      // Send a message to notify the kernel that we're ready.\n",
              "      channel.send({})\n",
              "\n",
              "      for await (const message of channel.messages) {\n",
              "        // Send a message to notify the kernel that we're ready.\n",
              "        channel.send({})\n",
              "        if (message.buffers) {\n",
              "          for (const buffer of message.buffers) {\n",
              "            buffers.push(buffer);\n",
              "            downloaded += buffer.byteLength;\n",
              "            progress.value = downloaded;\n",
              "          }\n",
              "        }\n",
              "      }\n",
              "      const blob = new Blob(buffers, {type: 'application/binary'});\n",
              "      const a = document.createElement('a');\n",
              "      a.href = window.URL.createObjectURL(blob);\n",
              "      a.download = filename;\n",
              "      div.appendChild(a);\n",
              "      a.click();\n",
              "      div.remove();\n",
              "    }\n",
              "  "
            ],
            "text/plain": [
              "<IPython.core.display.Javascript object>"
            ]
          },
          "metadata": {},
          "output_type": "display_data"
        },
        {
          "data": {
            "application/javascript": [
              "download(\"download_94ebd5e5-a49c-48ad-a340-f0d5b812d462\", \"vectorizer.pkl\", 187124)"
            ],
            "text/plain": [
              "<IPython.core.display.Javascript object>"
            ]
          },
          "metadata": {},
          "output_type": "display_data"
        },
        {
          "data": {
            "application/javascript": [
              "\n",
              "    async function download(id, filename, size) {\n",
              "      if (!google.colab.kernel.accessAllowed) {\n",
              "        return;\n",
              "      }\n",
              "      const div = document.createElement('div');\n",
              "      const label = document.createElement('label');\n",
              "      label.textContent = `Downloading \"${filename}\": `;\n",
              "      div.appendChild(label);\n",
              "      const progress = document.createElement('progress');\n",
              "      progress.max = size;\n",
              "      div.appendChild(progress);\n",
              "      document.body.appendChild(div);\n",
              "\n",
              "      const buffers = [];\n",
              "      let downloaded = 0;\n",
              "\n",
              "      const channel = await google.colab.kernel.comms.open(id);\n",
              "      // Send a message to notify the kernel that we're ready.\n",
              "      channel.send({})\n",
              "\n",
              "      for await (const message of channel.messages) {\n",
              "        // Send a message to notify the kernel that we're ready.\n",
              "        channel.send({})\n",
              "        if (message.buffers) {\n",
              "          for (const buffer of message.buffers) {\n",
              "            buffers.push(buffer);\n",
              "            downloaded += buffer.byteLength;\n",
              "            progress.value = downloaded;\n",
              "          }\n",
              "        }\n",
              "      }\n",
              "      const blob = new Blob(buffers, {type: 'application/binary'});\n",
              "      const a = document.createElement('a');\n",
              "      a.href = window.URL.createObjectURL(blob);\n",
              "      a.download = filename;\n",
              "      div.appendChild(a);\n",
              "      a.click();\n",
              "      div.remove();\n",
              "    }\n",
              "  "
            ],
            "text/plain": [
              "<IPython.core.display.Javascript object>"
            ]
          },
          "metadata": {},
          "output_type": "display_data"
        },
        {
          "data": {
            "application/javascript": [
              "download(\"download_1ffdefcf-4989-4e0f-850d-fd350c39ccec\", \"Svm_model.pkl\", 71517387)"
            ],
            "text/plain": [
              "<IPython.core.display.Javascript object>"
            ]
          },
          "metadata": {},
          "output_type": "display_data"
        }
      ],
      "source": [
        "\n",
        "from google.colab import files\n",
        "files.download('Knn_model.pkl')\n",
        "files.download('vectorizer.pkl')\n",
        "files.download('Svm_model.pkl')\n"
      ]
    },
    {
      "cell_type": "code",
      "execution_count": null,
      "metadata": {
        "id": "0ARTuwoOIM_i"
      },
      "outputs": [],
      "source": [
        "import joblib\n",
        "\n",
        "# Load the saved model\n",
        "model1=joblib.load('/content/Svm_model.pkl')\n",
        "vectorizer=joblib.load('/content/vectorizer2.pkl')\n",
        "\n",
        "# Now you can use it to predict:\n",
        "# prediction = model.predict([your_features])\n"
      ]
    },
    {
      "cell_type": "code",
      "execution_count": null,
      "metadata": {
        "id": "TaYDw-kdN0C6"
      },
      "outputs": [],
      "source": [
        "def remove_bullet_points(text):\n",
        "    # Define pattern to match bullet points\n",
        "    bullet_point_pattern = re.compile(r'\\s*[\\u2022\\u2023\\u25E6]\\s*')  # Matches •, ‣, and ◦ bullet points\n",
        "\n",
        "    # Remove bullet points from the text\n",
        "    cleaned_text = bullet_point_pattern.sub(' ', text)\n",
        "\n",
        "    return cleaned_text\n",
        "def remove_emojis_and_symbols_from_text(text):\n",
        "    # Define pattern to match emojis\n",
        "    emoji_pattern = re.compile(\"[\"\n",
        "                           u\"\\U0001F600-\\U0001F64F\"  # emoticons\n",
        "                           u\"\\U0001F300-\\U0001F5FF\"  # symbols & pictographs\n",
        "                           u\"\\U0001F680-\\U0001F6FF\"  # transport & map symbols\n",
        "                           u\"\\U0001F1E0-\\U0001F1FF\"  # flags (iOS)\n",
        "                           u\"\\U00002500-\\U00002BEF\"  # chinese char\n",
        "                           u\"\\U00002702-\\U000027B0\"\n",
        "                           u\"\\U00002702-\\U000027B0\"\n",
        "                           u\"\\U000024C2-\\U0001F251\"\n",
        "                           u\"\\U0001f926-\\U0001f937\"\n",
        "                           u\"\\U00010000-\\U0010ffff\"\n",
        "                           u\"\\u2640-\\u2642\"\n",
        "                           u\"\\u2600-\\u2B55\"\n",
        "                           u\"\\u200d\"\n",
        "                           u\"\\u23cf\"\n",
        "                           u\"\\u23e9\"\n",
        "                           u\"\\u231a\"\n",
        "                           u\"\\ufe0f\"  # dingbats\n",
        "                           u\"\\u3030\"\n",
        "                           u\"\\u00ae\" # trade Marks ®\n",
        "                           u\"\\u00A9\" # copy Right ©\n",
        "                           u\"\\u2122\" # Trade Mark TM\n",
        "                           u\"\\u200b\"\n",
        "                           \"]+\", flags=re.UNICODE)\n",
        "    # Remove emojis from the text\n",
        "    cleaned_text = emoji_pattern.sub(r' ', text)\n",
        "    return cleaned_text\n",
        "def decontraction(x):\n",
        "    contractions = {\n",
        "        \"you've\": 'you have',\n",
        "        \"you're\": 'you are',\n",
        "        \"haven't\": 'have not',\n",
        "        \"hasn't\": 'has not',\n",
        "        \"hadn't've\": 'had not have',\n",
        "        \"hadn't\": 'had not',\n",
        "        \"don't\": 'do not',\n",
        "        \"doesn't\": 'does not',\n",
        "        \"didn't\": 'did not',\n",
        "        \"couldn't've\": 'could not have',\n",
        "        \"couldn't\": 'could not',\n",
        "        \"could've\": 'could have',\n",
        "        \"'cause\": 'because',\n",
        "        \"can't've\": 'cannot have',\n",
        "        \"aren't\": 'are not',\n",
        "        \"ain't\": 'am not',\n",
        "        \"can't\": 'can not',\n",
        "        \"won't\": 'will not',\n",
        "        \"he'd\": 'he would',\n",
        "        \"he'd've\": 'he would have',\n",
        "        \"he'll\": 'he will',\n",
        "        \"he'll've\": 'he will have',\n",
        "        \"he's\": 'he is',\n",
        "        \"how'd\": 'how did',\n",
        "        \"how'd'y\": 'how do you',\n",
        "        \"how'll\": 'how will',\n",
        "        \"how's\": 'how does',\n",
        "        \"i'd\": 'i would',\n",
        "        \"i'd've\": 'i would have',\n",
        "        \"i'll\": 'i will',\n",
        "        \"i'll've\": 'i will have',\n",
        "        \"i'm\": 'i am',\n",
        "        \"i've\": 'i have',\n",
        "        \"isn't\": 'is not',\n",
        "        \"it'd\": 'it would',\n",
        "        \"it'd've\": 'it would have',\n",
        "        \"it'll\": 'it will',\n",
        "        \"it'll've\": 'it will have',\n",
        "        \"it's\": 'it is',\n",
        "        \"let's\": 'let us',\n",
        "        \"ma'am\": 'madam',\n",
        "        \"mayn't\": 'may not',\n",
        "        \"might've\": 'might have',\n",
        "        \"mightn't\": 'might not',\n",
        "        \"mightn't've\": 'might not have',\n",
        "        \"must've\": 'must have',\n",
        "        \"mustn't\": 'must not',\n",
        "        \"mustn't've\": 'must not have',\n",
        "        \"needn't\": 'need not',\n",
        "        \"needn't've\": 'need not have',\n",
        "        \"o'clock\": 'of the clock',\n",
        "        \"oughtn't\": 'ought not',\n",
        "        \"oughtn't've\": 'ought not have',\n",
        "        \"shan't\": 'shall not',\n",
        "        \"sha'n't\": 'shall not',\n",
        "        \"shan't've\": 'shall not have',\n",
        "        \"she'd\": 'she would',\n",
        "        \"she'd've\": 'she would have',\n",
        "        \"she'll\": 'she will',\n",
        "        \"she'll've\": 'she will have',\n",
        "        \"she's\": 'she is',\n",
        "        \"should've\": 'should have',\n",
        "        \"shouldn't\": 'should not',\n",
        "        \"shouldn't've\": 'should not have',\n",
        "        \"so've\": 'so have',\n",
        "        \"so's\": 'so is',\n",
        "        \"that'd\": 'that would',\n",
        "        \"that'd've\": 'that would have',\n",
        "        \"that's\": 'that is',\n",
        "        \"there'd\": 'there would',\n",
        "        \"there'd've\": 'there would have',\n",
        "        \"there's\": 'there is',\n",
        "        \"they'd\": 'they would',\n",
        "        \"they'd've\": 'they would have',\n",
        "        \"they'll\": 'they will',\n",
        "        \"they'll've\": 'they will have',\n",
        "        \"they're\": 'they are',\n",
        "        \"they've\": 'they have',\n",
        "        \"to've\": 'to have',\n",
        "        \"wasn't\": 'was not',\n",
        "        \"we're\": 'we are',\n",
        "        \"'s\": \" is\",\n",
        "        \"n't\": ' not',\n",
        "        \"'re\": ' are',\n",
        "        \"'d\": ' would',\n",
        "        \"'ll\": ' will',\n",
        "        \"'t\": ' not',\n",
        "        \"'ve\": ' have',\n",
        "        \"'m\": ' am',\n",
        "        ' u ': ' you ',\n",
        "        ' ur ': ' your ',\n",
        "        ' n ': ' and '\n",
        "    }\n",
        "\n",
        "    contractions_comma = {\n",
        "        \"you’ve\": 'you have',\n",
        "        \"you’re\": 'you are',\n",
        "        \"haven’t\": 'have not',\n",
        "        \"hasn’t\": 'has not',\n",
        "        \"hadn’t've\": 'had not have',\n",
        "        \"hadn’t\": 'had not',\n",
        "        \"don’t\": 'do not',\n",
        "        \"doesn’t\": 'does not',\n",
        "        \"didn’t\": 'did not',\n",
        "        \"couldn’t’ve\": 'could not have',\n",
        "        \"couldn’t\": 'could not',\n",
        "        \"could’ve\": 'could have',\n",
        "        \"’cause\": 'because',\n",
        "        \"can’t’ve\": 'cannot have',\n",
        "        \"aren’t\": 'are not',\n",
        "        \"ain’t\": 'am not',\n",
        "        \"can’t\": 'can not',\n",
        "        \"won’t\": 'will not',\n",
        "        \"he’d\": 'he would',\n",
        "        \"he'd've\": 'he would have',\n",
        "        \"he’ll\": 'he will',\n",
        "        \"he’ll’ve\": 'he will have',\n",
        "        \"he’s\": 'he is',\n",
        "        \"how’d\": 'how did',\n",
        "        \"how’d'y\": 'how do you',\n",
        "        \"how’ll\": 'how will',\n",
        "        \"how’s\": 'how does',\n",
        "        \"i’d\": 'i would',\n",
        "        \"i’d’ve\": 'i would have',\n",
        "        \"i’ll\": 'i will',\n",
        "        \"i’ll’ve\": 'i will have',\n",
        "        \"i’m\": 'i am',\n",
        "        \"i’ve\": 'i have',\n",
        "        \"isn’t\": 'is not',\n",
        "        \"it’d\": 'it would',\n",
        "        \"it’d’ve\": 'it would have',\n",
        "        \"it’ll\": 'it will',\n",
        "        \"it'll've\": 'it will have',\n",
        "        \"it’s\": 'it is',\n",
        "        \"let's\": 'let us',\n",
        "        \"ma’am\": 'madam',\n",
        "        \"mayn’t\": 'may not',\n",
        "        \"might’ve\": 'might have',\n",
        "        \"mightn’t\": 'might not',\n",
        "        \"mightn’t've\": 'might not have',\n",
        "        \"must’ve\": 'must have',\n",
        "        \"mustn’t\": 'must not',\n",
        "        \"mustn’t’ve\": 'must not have',\n",
        "        \"needn’t\": 'need not',\n",
        "        \"needn’t’ve\": 'need not have',\n",
        "        \"o’clock\": 'of the clock',\n",
        "        \"oughtn’t\": 'ought not',\n",
        "        \"oughtn’t’ve\": 'ought not have',\n",
        "        \"shan’t\": 'shall not',\n",
        "        \"sha’n’t\": 'shall not',\n",
        "        \"shan’t’ve\": 'shall not have',\n",
        "        \"she’d\": 'she would',\n",
        "        \"she’d’ve\": 'she would have',\n",
        "        \"she’ll\": 'she will',\n",
        "        \"she’ll’ve\": 'she will have',\n",
        "        \"she’s\": 'she is',\n",
        "        \"should’ve\": 'should have',\n",
        "        \"shouldn’t\": 'should not',\n",
        "        \"shouldn't've\": 'should not have',\n",
        "        \"so’ve\": 'so have',\n",
        "        \"so's\": 'so is',\n",
        "        \"that’d\": 'that would',\n",
        "        \"that’d've\": 'that would have',\n",
        "        \"that’s\": 'that is',\n",
        "        \"there’d\": 'there would',\n",
        "        \"there’d’ve\": 'there would have',\n",
        "        \"there’s\": 'there is',\n",
        "        \"they’d\": 'they would',\n",
        "        \"they’d've\": 'they would have',\n",
        "        \"they’ll\": 'they will',\n",
        "        \"they’ll've\": 'they will have',\n",
        "        \"they’re\": 'they are',\n",
        "        \"they’ve\": 'they have',\n",
        "        \"to’ve\": 'to have',\n",
        "        \"wasn’t\": 'was not',\n",
        "        \"we’re\": 'we are',\n",
        "        \"’s\": \" is\",\n",
        "        \"n’t\": ' not',\n",
        "        \"’re\": ' are',\n",
        "        \"’d\": ' would',\n",
        "        \"’ll\": ' will',\n",
        "        \"’t\": ' not',\n",
        "        \"’ve\": ' have',\n",
        "        \"’m\": ' am',\n",
        "        ' u ': ' you ',\n",
        "        ' ur ': ' your ',\n",
        "        ' n ': ' and '\n",
        "    }\n",
        "\n",
        "    for key in contractions:\n",
        "        value = contractions[key]\n",
        "        x = x.replace(key, value)\n",
        "\n",
        "    for key in contractions_comma:\n",
        "        value = contractions_comma[key]\n",
        "        x = x.replace(key, value)\n",
        "    return x\n",
        "\n",
        "def removepunc(x):\n",
        "    punctuation = '!\\xad\\xa0\\xe2\\x80\\x9d\\xe2\\x80\\x99\\xe2\\x80\\xa2()*+-/:;<=>[]^_`{|}~@#,.?$%&\"”“’‘\\'…<>«»'\n",
        "    translation_table = str.maketrans(punctuation, ' ' * len(punctuation))\n",
        "    return x.translate(translation_table)\n",
        "\n",
        "def remove_extra_spaces(text):\n",
        "    return re.sub(r'\\s+', ' ', text)\n",
        "\n",
        "def remove_html_tags(text):\n",
        "    clean = re.compile('<.*?>')\n",
        "    return re.sub(clean, ' ', text)\n",
        "\n",
        "def remove_ampersand(text):\n",
        "    text = text.replace('&amp;', '')\n",
        "    text = text.replace('andamp;', '')\n",
        "    return text\n",
        "def remove_code_from_text(text):\n",
        "    # Defining the pattern to match the code\n",
        "    code_pattern = r'\\b[0-9a-fA-F]{64}\\b'  # Assuming the code is a 64-character hexadecimal string\n",
        "\n",
        "    # Remove the code from the text\n",
        "    cleaned_text = re.sub(code_pattern, ' ', text)\n",
        "\n",
        "    return cleaned_text\n",
        "def remove_number_from_text(text):\n",
        "    # Defining the pattern to match the code\n",
        "    number_pattern = r'[0-9]'  # Assuming the code is a 64-character hexadecimal string\n",
        "\n",
        "    # Remove the code from the text\n",
        "    cleaned_text = re.sub(number_pattern, ' ', text)\n",
        "\n",
        "    return cleaned_text\n",
        "def remove_greek_words(text):\n",
        "    # Define pattern to match Greek words\n",
        "    greek_pattern = re.compile(r'\\b[α-ωΑ-Ωίϊΐόάέύϋΰήώ]+\\b', flags=re.IGNORECASE)\n",
        "\n",
        "    # Remove Greek words from the text\n",
        "    cleaned_text = greek_pattern.sub(' ', text)\n",
        "\n",
        "    return cleaned_text\n",
        "def remove_russian_words(text):\n",
        "    # Define pattern to match Russian words\n",
        "    russian_pattern = re.compile(r'\\b[а-яА-Я]+\\b')  # Matches Russian words\n",
        "\n",
        "    # Remove Russian words from the text\n",
        "    cleaned_text = russian_pattern.sub('', text)\n",
        "\n",
        "    return cleaned_text\n",
        "def remove_thai_words(text):\n",
        "    # Remove Thai characters using regular expression\n",
        "    cleaned_text = re.sub(r'[\\u0E00-\\u0E7F]', ' ', text)\n",
        "\n",
        "    return cleaned_text\n",
        "def remove_currency_symbols(text):\n",
        "    # Define pattern to match currency symbols\n",
        "    currency_pattern = re.compile(r'[$€¥₹£¢₽₩₪₴₱₨฿₦₮₲₭₵₿]')  # Matches any currency symbol\n",
        "\n",
        "    # Remove currency symbols from the text\n",
        "    cleaned_text = currency_pattern.sub(' ', text)\n",
        "\n",
        "    return cleaned_text\n",
        "def remove_hyphens(text):\n",
        "    # Define pattern to match hyphens within words\n",
        "    hyphen_pattern = re.compile(r'\\b(\\w+)[-—‑–](\\w+)\\b')  # Matches hyphens within words\n",
        "\n",
        "    # Remove hyphens from the text\n",
        "    cleaned_text = hyphen_pattern.sub(r'\\1 \\2', text)\n",
        "\n",
        "    return cleaned_text\n",
        "def text_processing(text):\n",
        "\n",
        "    # Lowercasing text\n",
        "    text = text.lower()\n",
        "\n",
        "    # Removing URLs from text\n",
        "    text = re.sub(r\"http\\S+\", \"\", text)\n",
        "\n",
        "    # Removing newline character\n",
        "    text = re.sub(r\"\\n\", \"\", text)\n",
        "\n",
        "    # Replacing & character with 'and'\n",
        "    text = re.sub(r\"&\", \"and\", text)\n",
        "\n",
        "    # Removing HTML tags\n",
        "    text = remove_html_tags(text)\n",
        "\n",
        "    # Removing ampersand from the text\n",
        "    text = remove_ampersand(text)\n",
        "\n",
        "    # Performing decontraction on the text\n",
        "    text = decontraction(text)\n",
        "\n",
        "    # Removing the punctuations from the text\n",
        "    text = removepunc(text)\n",
        "\n",
        "    # Removing 64-character hexadecimal string in the text\n",
        "    text = remove_code_from_text(text)\n",
        "\n",
        "    # Removing number in the text\n",
        "    text = remove_number_from_text(text)\n",
        "\n",
        "    # Removing emojis from text\n",
        "    text = remove_emojis_and_symbols_from_text(text)\n",
        "\n",
        "    # Remove •, ‣, and ◦ bullet points\n",
        "    text = remove_bullet_points(text)\n",
        "\n",
        "    # Remove greek words from the text\n",
        "    text = remove_greek_words(text)\n",
        "\n",
        "    # Remove russian words from the text\n",
        "    text = remove_russian_words(text)\n",
        "\n",
        "    # Remove thai words from the text\n",
        "    text = remove_thai_words(text)\n",
        "\n",
        "    # Remove hyphens from hyphenated word\n",
        "    text = remove_hyphens(text)\n",
        "\n",
        "    # Remove currency symbols from the text\n",
        "    text = remove_currency_symbols(text)\n",
        "\n",
        "    # Removing extra space in the text\n",
        "    text = remove_extra_spaces(text)\n",
        "\n",
        "    return text"
      ]
    },
    {
      "cell_type": "code",
      "execution_count": null,
      "metadata": {
        "colab": {
          "base_uri": "https://localhost:8080/",
          "height": 370
        },
        "id": "3jv2LEzXNEmM",
        "outputId": "eb918d15-83fc-435f-b669-3fdd244b6be9"
      },
      "outputs": [
        {
          "ename": "NotFittedError",
          "evalue": "Vocabulary not fitted or provided",
          "output_type": "error",
          "traceback": [
            "\u001b[0;31m---------------------------------------------------------------------------\u001b[0m",
            "\u001b[0;31mNotFittedError\u001b[0m                            Traceback (most recent call last)",
            "\u001b[0;32m<ipython-input-24-a46f049712cc>\u001b[0m in \u001b[0;36m<cell line: 0>\u001b[0;34m()\u001b[0m\n\u001b[1;32m      3\u001b[0m \u001b[0;31m# Just call the existing function\u001b[0m\u001b[0;34m\u001b[0m\u001b[0;34m\u001b[0m\u001b[0m\n\u001b[1;32m      4\u001b[0m \u001b[0mcleaned_message\u001b[0m \u001b[0;34m=\u001b[0m \u001b[0;34m[\u001b[0m\u001b[0mtext_processing\u001b[0m\u001b[0;34m(\u001b[0m\u001b[0mmsg\u001b[0m\u001b[0;34m)\u001b[0m \u001b[0;32mfor\u001b[0m \u001b[0mmsg\u001b[0m \u001b[0;32min\u001b[0m \u001b[0mnew_message\u001b[0m\u001b[0;34m]\u001b[0m\u001b[0;34m\u001b[0m\u001b[0;34m\u001b[0m\u001b[0m\n\u001b[0;32m----> 5\u001b[0;31m \u001b[0mnew_message_vectorized\u001b[0m \u001b[0;34m=\u001b[0m \u001b[0mvectorizer\u001b[0m\u001b[0;34m.\u001b[0m\u001b[0mtransform\u001b[0m\u001b[0;34m(\u001b[0m\u001b[0mcleaned_message\u001b[0m\u001b[0;34m)\u001b[0m\u001b[0;34m\u001b[0m\u001b[0;34m\u001b[0m\u001b[0m\n\u001b[0m\u001b[1;32m      6\u001b[0m \u001b[0mprediction\u001b[0m \u001b[0;34m=\u001b[0m \u001b[0mmodel\u001b[0m\u001b[0;34m.\u001b[0m\u001b[0mpredict\u001b[0m\u001b[0;34m(\u001b[0m\u001b[0mnew_message_vectorized\u001b[0m\u001b[0;34m)\u001b[0m\u001b[0;34m\u001b[0m\u001b[0;34m\u001b[0m\u001b[0m\n\u001b[1;32m      7\u001b[0m \u001b[0;34m\u001b[0m\u001b[0m\n",
            "\u001b[0;32m/usr/local/lib/python3.11/dist-packages/sklearn/feature_extraction/text.py\u001b[0m in \u001b[0;36mtransform\u001b[0;34m(self, raw_documents)\u001b[0m\n\u001b[1;32m   2126\u001b[0m         \u001b[0mcheck_is_fitted\u001b[0m\u001b[0;34m(\u001b[0m\u001b[0mself\u001b[0m\u001b[0;34m,\u001b[0m \u001b[0mmsg\u001b[0m\u001b[0;34m=\u001b[0m\u001b[0;34m\"The TF-IDF vectorizer is not fitted\"\u001b[0m\u001b[0;34m)\u001b[0m\u001b[0;34m\u001b[0m\u001b[0;34m\u001b[0m\u001b[0m\n\u001b[1;32m   2127\u001b[0m \u001b[0;34m\u001b[0m\u001b[0m\n\u001b[0;32m-> 2128\u001b[0;31m         \u001b[0mX\u001b[0m \u001b[0;34m=\u001b[0m \u001b[0msuper\u001b[0m\u001b[0;34m(\u001b[0m\u001b[0;34m)\u001b[0m\u001b[0;34m.\u001b[0m\u001b[0mtransform\u001b[0m\u001b[0;34m(\u001b[0m\u001b[0mraw_documents\u001b[0m\u001b[0;34m)\u001b[0m\u001b[0;34m\u001b[0m\u001b[0;34m\u001b[0m\u001b[0m\n\u001b[0m\u001b[1;32m   2129\u001b[0m         \u001b[0;32mreturn\u001b[0m \u001b[0mself\u001b[0m\u001b[0;34m.\u001b[0m\u001b[0m_tfidf\u001b[0m\u001b[0;34m.\u001b[0m\u001b[0mtransform\u001b[0m\u001b[0;34m(\u001b[0m\u001b[0mX\u001b[0m\u001b[0;34m,\u001b[0m \u001b[0mcopy\u001b[0m\u001b[0;34m=\u001b[0m\u001b[0;32mFalse\u001b[0m\u001b[0;34m)\u001b[0m\u001b[0;34m\u001b[0m\u001b[0;34m\u001b[0m\u001b[0m\n\u001b[1;32m   2130\u001b[0m \u001b[0;34m\u001b[0m\u001b[0m\n",
            "\u001b[0;32m/usr/local/lib/python3.11/dist-packages/sklearn/feature_extraction/text.py\u001b[0m in \u001b[0;36mtransform\u001b[0;34m(self, raw_documents)\u001b[0m\n\u001b[1;32m   1416\u001b[0m                 \u001b[0;34m\"Iterable over raw text documents expected, string object received.\"\u001b[0m\u001b[0;34m\u001b[0m\u001b[0;34m\u001b[0m\u001b[0m\n\u001b[1;32m   1417\u001b[0m             )\n\u001b[0;32m-> 1418\u001b[0;31m         \u001b[0mself\u001b[0m\u001b[0;34m.\u001b[0m\u001b[0m_check_vocabulary\u001b[0m\u001b[0;34m(\u001b[0m\u001b[0;34m)\u001b[0m\u001b[0;34m\u001b[0m\u001b[0;34m\u001b[0m\u001b[0m\n\u001b[0m\u001b[1;32m   1419\u001b[0m \u001b[0;34m\u001b[0m\u001b[0m\n\u001b[1;32m   1420\u001b[0m         \u001b[0;31m# use the same matrix-building strategy as fit_transform\u001b[0m\u001b[0;34m\u001b[0m\u001b[0;34m\u001b[0m\u001b[0m\n",
            "\u001b[0;32m/usr/local/lib/python3.11/dist-packages/sklearn/feature_extraction/text.py\u001b[0m in \u001b[0;36m_check_vocabulary\u001b[0;34m(self)\u001b[0m\n\u001b[1;32m    499\u001b[0m             \u001b[0mself\u001b[0m\u001b[0;34m.\u001b[0m\u001b[0m_validate_vocabulary\u001b[0m\u001b[0;34m(\u001b[0m\u001b[0;34m)\u001b[0m\u001b[0;34m\u001b[0m\u001b[0;34m\u001b[0m\u001b[0m\n\u001b[1;32m    500\u001b[0m             \u001b[0;32mif\u001b[0m \u001b[0;32mnot\u001b[0m \u001b[0mself\u001b[0m\u001b[0;34m.\u001b[0m\u001b[0mfixed_vocabulary_\u001b[0m\u001b[0;34m:\u001b[0m\u001b[0;34m\u001b[0m\u001b[0;34m\u001b[0m\u001b[0m\n\u001b[0;32m--> 501\u001b[0;31m                 \u001b[0;32mraise\u001b[0m \u001b[0mNotFittedError\u001b[0m\u001b[0;34m(\u001b[0m\u001b[0;34m\"Vocabulary not fitted or provided\"\u001b[0m\u001b[0;34m)\u001b[0m\u001b[0;34m\u001b[0m\u001b[0;34m\u001b[0m\u001b[0m\n\u001b[0m\u001b[1;32m    502\u001b[0m \u001b[0;34m\u001b[0m\u001b[0m\n\u001b[1;32m    503\u001b[0m         \u001b[0;32mif\u001b[0m \u001b[0mlen\u001b[0m\u001b[0;34m(\u001b[0m\u001b[0mself\u001b[0m\u001b[0;34m.\u001b[0m\u001b[0mvocabulary_\u001b[0m\u001b[0;34m)\u001b[0m \u001b[0;34m==\u001b[0m \u001b[0;36m0\u001b[0m\u001b[0;34m:\u001b[0m\u001b[0;34m\u001b[0m\u001b[0;34m\u001b[0m\u001b[0m\n",
            "\u001b[0;31mNotFittedError\u001b[0m: Vocabulary not fitted or provided"
          ]
        }
      ],
      "source": [
        "new_message = [\"Are you looking to earn $300–$500 daily from the comfort of your home? We are hiring people immediately for easy data entry work. No experience required!\"]\n",
        "\n",
        "# Just call the existing function\n",
        "cleaned_message = [text_processing(msg) for msg in new_message]\n",
        "new_message_vectorized = vectorizer.transform(cleaned_message)\n",
        "prediction = model.predict(new_message_vectorized)\n",
        "\n",
        "print(\"fake\" if prediction[0] == 1 else \"Real\")"
      ]
    }
  ],
  "metadata": {
    "colab": {
      "provenance": []
    },
    "kernelspec": {
      "display_name": "Python 3",
      "name": "python3"
    },
    "language_info": {
      "name": "python"
    }
  },
  "nbformat": 4,
  "nbformat_minor": 0
}